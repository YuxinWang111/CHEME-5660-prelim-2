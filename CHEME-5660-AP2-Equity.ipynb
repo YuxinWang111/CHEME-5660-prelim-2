{
 "cells": [
  {
   "cell_type": "markdown",
   "id": "58a3fffe-8775-4701-b156-ca0c0b443383",
   "metadata": {},
   "source": [
    "## CHEME 5660 Actual Prelim 2 Equity Question"
   ]
  },
  {
   "cell_type": "markdown",
   "id": "3156c6e0-064f-471e-908e-c8e7861d4e3c",
   "metadata": {},
   "source": [
    "You are a Quant at Olin Financial, an up-and-coming hedge fund. You have been tasked with computing the distribution of possible future share price values for firm XYZ.\n",
    "Suppose the share price of firm XYZ at time $t$, denoted by $S(t)$, is governed by a geometric Brownian motion with the solution:\n",
    "\n",
    "$$\n",
    "\\begin{equation}\\label{eqn-gbm-anal-soln}\n",
    "S(t) = S_{\\circ}\\exp\\left(\\left(\\mu - \\frac{\\sigma^{2}}{2}\\right)\\left(t-t_{\\circ}\\right)+\\sigma\\sqrt{t-t_{\\circ}}\\cdot{Z(0,1)}\\right)\n",
    "\\end{equation}\n",
    "$$\n",
    "\n",
    "where $S_{\\circ}$ denotes the initial share price at $t_{\\circ}<t$, $\\mu$ denotes the rate of return parameter, \n",
    "$\\sigma>0$ denotes the volatility parameter and $Z\\left(0,1\\right)$ denotes a standard-normal random variable. \n",
    "\n",
    "__Assumptions__: (i) the implied volatility of an At the Money (ATM) `01/20/2023` option on XYZ is 52.27\\%; \n",
    "(ii) there are 78 days to 01/20/2023 (from today); (iii) the current share price of XYZ is 270.89 USD/share.\n",
    "\n",
    "Use the Jupyter notebook `CHEME-5660-PP2-Equity.ipynb`, and any associated data sets, or other course materials to answer the following questions:\n",
    "\n",
    "* a) Estimate the rate of return parameter $\\mu$ from historical OHLC data for firm XYZ.\n",
    "* b) Estimate the volatility parameter $\\sigma$ from historical OHLC data for firm XYZ.\n",
    "* c) Using your estimates of the $\\mu$ and $\\sigma$ parameters, along with the analytical GBM solution, estimate a distribution of possible future share price values of XYZ on `01/20/2023`. Generate N = 10,000 sample paths and let $t_{\\circ} = 0$ (now)."
   ]
  },
  {
   "cell_type": "markdown",
   "id": "8d531443-9ce1-46bd-bfbc-6a1f425563a7",
   "metadata": {},
   "source": [
    "## Solution"
   ]
  },
  {
   "cell_type": "code",
   "execution_count": 1,
   "id": "eefd8c05-a73c-4433-97c4-65c92a8807db",
   "metadata": {},
   "outputs": [
    {
     "name": "stderr",
     "output_type": "stream",
     "text": [
      "\u001b[32m\u001b[1m  Activating\u001b[22m\u001b[39m project at `C:\\Users\\wd\\Desktop\\CHEME-5660-Markets-Mayhem-Example-Notebooks-main\\prelims\\P2\\actual`\n",
      "\u001b[32m\u001b[1m  No Changes\u001b[22m\u001b[39m to `C:\\Users\\wd\\Desktop\\CHEME-5660-Markets-Mayhem-Example-Notebooks-main\\prelims\\P2\\actual\\Project.toml`\n",
      "\u001b[32m\u001b[1m  No Changes\u001b[22m\u001b[39m to `C:\\Users\\wd\\Desktop\\CHEME-5660-Markets-Mayhem-Example-Notebooks-main\\prelims\\P2\\actual\\Manifest.toml`\n"
     ]
    }
   ],
   "source": [
    "import Pkg; Pkg.activate(\".\"); Pkg.resolve(); Pkg.instantiate();"
   ]
  },
  {
   "cell_type": "code",
   "execution_count": 2,
   "id": "2e6fb085-85e9-4d92-95ff-7e722c5fd28a",
   "metadata": {},
   "outputs": [],
   "source": [
    "# load external packages that are required for the calculations -\n",
    "using DataFrames\n",
    "using CSV\n",
    "using Dates\n",
    "using Statistics\n",
    "using LinearAlgebra\n",
    "using Plots\n",
    "using Colors\n",
    "using Distributions\n",
    "using StatsPlots\n",
    "\n",
    "# setup paths to load XYZ OHLC data set -\n",
    "const _NOTEBOOK_ROOT = pwd();\n",
    "const _PATH_TO_DATA = joinpath(_NOTEBOOK_ROOT, \"data\");"
   ]
  },
  {
   "cell_type": "code",
   "execution_count": 3,
   "id": "c525a0d2-817b-4452-856b-2ec5a5bfb6ec",
   "metadata": {},
   "outputs": [],
   "source": [
    "include(\"CHEME-5560-AP2-CodeLib.jl\"); # Look inside me to find out what I have!"
   ]
  },
  {
   "cell_type": "code",
   "execution_count": 4,
   "id": "6cda2351-1536-4641-8f2a-cb78e2849aa6",
   "metadata": {},
   "outputs": [],
   "source": [
    "# load the OHLC data set -\n",
    "df = CSV.read(joinpath(_PATH_TO_DATA, \"CHEME-5660-OHLC-XYZ-AP2-F22.csv\"), DataFrame);"
   ]
  },
  {
   "cell_type": "code",
   "execution_count": 5,
   "id": "e1a05d4e-808e-4909-a3c1-7e306a07834a",
   "metadata": {},
   "outputs": [],
   "source": [
    "# setup constants -\n",
    "ΔT = 78.0;             # days to expiration (units: days)\n",
    "B = 365.0;             # number of days per year\n",
    "IV = 52.27;            # implied volatility\n",
    "Sₒ = 270.89;           # initial share price given in the problem\n",
    "\n",
    "# plot and sim constants stuff for later -\n",
    "number_of_bins = 80;\n",
    "number_of_sample_paths = 10000;"
   ]
  },
  {
   "cell_type": "markdown",
   "id": "3fef7c6b-80cb-48cc-b211-ecef2fc25bdb",
   "metadata": {},
   "source": [
    "#### Split the historical data into training and prediction sets"
   ]
  },
  {
   "cell_type": "code",
   "execution_count": 6,
   "id": "9cd933d8-c77d-46f5-848e-ddd703a95ea0",
   "metadata": {},
   "outputs": [],
   "source": [
    "α = 0.8; # fraction of data for training (you get to choose this)"
   ]
  },
  {
   "cell_type": "code",
   "execution_count": 7,
   "id": "917b8cf7-6b90-43fc-b650-5299c7712289",
   "metadata": {},
   "outputs": [],
   "source": [
    "# instead of using all the data from 1 - let's specify a start index -\n",
    "start_index = 380; # you also get to choose this! (1 -> all data)\n",
    "df_local = df[start_index:end, :]\n",
    "\n",
    "N = nrow(df_local); # this is the number of rows in the total data set -\n",
    "ℒ = Int64(round(α*N));\n",
    "\n",
    "# split the data into to two chunks, training and validation\n",
    "all_range = range(1,stop=N,step=1) |> collect\n",
    "T_all = all_range*(1.0/365.0) .- (1.0/365.0)\n",
    "\n",
    "# time ranges for the training, and prediction sets\n",
    "training_range = range(1,stop=ℒ, step=1);\n",
    "prediction_range = range(ℒ+1,stop=N, step=1);\n",
    "\n",
    "# data sets -\n",
    "df_training = df_local[training_range,:];\n",
    "df_prediction = df_local[prediction_range,:];"
   ]
  },
  {
   "cell_type": "code",
   "execution_count": 8,
   "id": "18bc10e4-31e3-429f-a075-3056fd085521",
   "metadata": {},
   "outputs": [],
   "source": [
    "# build an empty model, add stuff to it -\n",
    "training_model = GeometricBrownianMotionModel()\n",
    "training_model.T₁ = 0.0\n",
    "training_model.T₂ = 0.0;\n",
    "training_model.h = (1.0/365.0)\n",
    "training_model.Xₒ = df_local[1,:close]; # we can change where we start \n",
    "\n",
    "# parameter values -\n",
    "training_model.μ = 0.0; # we don't know this value yet, 0 for now\n",
    "training_model.σ = 0.0; # we don't know this value yet, 0 for now"
   ]
  },
  {
   "cell_type": "markdown",
   "id": "1805d70c-2757-483f-a484-d6d270e208d5",
   "metadata": {},
   "source": [
    "### a) Estimate the rate of return parameter $\\mu$\n",
    "\n",
    "#### Strategy\n",
    "Let $A$ denote the $\\mathcal{S}\\times{2}$ matrix holding the time values; the first column of $A$ is all 1's while the second column holds the $(t-t_{\\circ})$ values. Further, let $Y$ denote the QQQ close price values (in the same order as the $A$ matrix). Then, the y-intercept and slope can be estimated by solving the `overdetermined` system of equations:\n",
    "\n",
    "$$A\\theta = Y$$\n",
    "\n",
    "where $\\theta$ denotes a $2\\times{1}$ vector of unknown parameters; the first element is the y-intercept $b=\\ln{S_{\\circ}}$ while the second element is $\\hat{\\mu}$, an estimate of the growth-rate parameter. This system can be solved as:\n",
    "\n",
    "$$\\theta = (A^{T}A)^{-1}A^{T}Y$$\n",
    "\n",
    "where $A^{T}$ denotes the transpose of the matrix $A$. "
   ]
  },
  {
   "cell_type": "code",
   "execution_count": 9,
   "id": "419f01cf-a336-4cad-88bd-bd80f32d8e7a",
   "metadata": {},
   "outputs": [],
   "source": [
    "# fill me in ...\n",
    "# Setup the normal equations -\n",
    "XD = [ones(Int(round(α*N))) T_all[training_range]];\n",
    "P̂ = log.(df_training[!,:close]);\n",
    "P̂_prediction = log.(df_prediction[!,:close]);\n",
    "\n",
    "# Solve the normal equations -\n",
    "θ = inv(transpose(XD)*XD)*transpose(XD)*P̂;\n",
    "\n",
    "# get estimated μ -\n",
    "μ̂ = θ[2];\n",
    "\n",
    "# update the training model -\n",
    "training_model.μ = 1.0*μ̂;\n",
    "\n",
    "# compute model -\n",
    "b = θ[1];              \n",
    "P̂_model = b .+ μ̂*T_all;"
   ]
  },
  {
   "cell_type": "code",
   "execution_count": 10,
   "id": "db5030de-4333-4c70-a06d-adcf03e7c4c7",
   "metadata": {},
   "outputs": [
    {
     "data": {
      "image/svg+xml": [
       "<?xml version=\"1.0\" encoding=\"utf-8\"?>\n",
       "<svg xmlns=\"http://www.w3.org/2000/svg\" xmlns:xlink=\"http://www.w3.org/1999/xlink\" width=\"600\" height=\"400\" viewBox=\"0 0 2400 1600\">\n",
       "<defs>\n",
       "  <clipPath id=\"clip830\">\n",
       "    <rect x=\"0\" y=\"0\" width=\"2400\" height=\"1600\"/>\n",
       "  </clipPath>\n",
       "</defs>\n",
       "<path clip-path=\"url(#clip830)\" d=\"\n",
       "M0 1600 L2400 1600 L2400 0 L0 0  Z\n",
       "  \" fill=\"#ffffff\" fill-rule=\"evenodd\" fill-opacity=\"1\"/>\n",
       "<defs>\n",
       "  <clipPath id=\"clip831\">\n",
       "    <rect x=\"480\" y=\"0\" width=\"1681\" height=\"1600\"/>\n",
       "  </clipPath>\n",
       "</defs>\n",
       "<path clip-path=\"url(#clip830)\" d=\"\n",
       "M219.334 1423.18 L2352.76 1423.18 L2352.76 47.2441 L219.334 47.2441  Z\n",
       "  \" fill=\"#ffffff\" fill-rule=\"evenodd\" fill-opacity=\"1\"/>\n",
       "<defs>\n",
       "  <clipPath id=\"clip832\">\n",
       "    <rect x=\"219\" y=\"47\" width=\"2134\" height=\"1377\"/>\n",
       "  </clipPath>\n",
       "</defs>\n",
       "<polyline clip-path=\"url(#clip832)\" style=\"stroke:#000000; stroke-linecap:round; stroke-linejoin:round; stroke-width:2; stroke-opacity:0.1; fill:none\" points=\"\n",
       "  279.714,1423.18 279.714,47.2441 \n",
       "  \"/>\n",
       "<polyline clip-path=\"url(#clip832)\" style=\"stroke:#000000; stroke-linecap:round; stroke-linejoin:round; stroke-width:2; stroke-opacity:0.1; fill:none\" points=\"\n",
       "  823.878,1423.18 823.878,47.2441 \n",
       "  \"/>\n",
       "<polyline clip-path=\"url(#clip832)\" style=\"stroke:#000000; stroke-linecap:round; stroke-linejoin:round; stroke-width:2; stroke-opacity:0.1; fill:none\" points=\"\n",
       "  1368.04,1423.18 1368.04,47.2441 \n",
       "  \"/>\n",
       "<polyline clip-path=\"url(#clip832)\" style=\"stroke:#000000; stroke-linecap:round; stroke-linejoin:round; stroke-width:2; stroke-opacity:0.1; fill:none\" points=\"\n",
       "  1912.21,1423.18 1912.21,47.2441 \n",
       "  \"/>\n",
       "<polyline clip-path=\"url(#clip830)\" style=\"stroke:#000000; stroke-linecap:round; stroke-linejoin:round; stroke-width:4; stroke-opacity:1; fill:none\" points=\"\n",
       "  219.334,1423.18 2352.76,1423.18 \n",
       "  \"/>\n",
       "<polyline clip-path=\"url(#clip830)\" style=\"stroke:#000000; stroke-linecap:round; stroke-linejoin:round; stroke-width:4; stroke-opacity:1; fill:none\" points=\"\n",
       "  279.714,1423.18 279.714,1404.28 \n",
       "  \"/>\n",
       "<polyline clip-path=\"url(#clip830)\" style=\"stroke:#000000; stroke-linecap:round; stroke-linejoin:round; stroke-width:4; stroke-opacity:1; fill:none\" points=\"\n",
       "  823.878,1423.18 823.878,1404.28 \n",
       "  \"/>\n",
       "<polyline clip-path=\"url(#clip830)\" style=\"stroke:#000000; stroke-linecap:round; stroke-linejoin:round; stroke-width:4; stroke-opacity:1; fill:none\" points=\"\n",
       "  1368.04,1423.18 1368.04,1404.28 \n",
       "  \"/>\n",
       "<polyline clip-path=\"url(#clip830)\" style=\"stroke:#000000; stroke-linecap:round; stroke-linejoin:round; stroke-width:4; stroke-opacity:1; fill:none\" points=\"\n",
       "  1912.21,1423.18 1912.21,1404.28 \n",
       "  \"/>\n",
       "<path clip-path=\"url(#clip830)\" d=\"M257.098 1454.1 Q253.487 1454.1 251.658 1457.66 Q249.853 1461.2 249.853 1468.33 Q249.853 1475.44 251.658 1479.01 Q253.487 1482.55 257.098 1482.55 Q260.732 1482.55 262.538 1479.01 Q264.367 1475.44 264.367 1468.33 Q264.367 1461.2 262.538 1457.66 Q260.732 1454.1 257.098 1454.1 M257.098 1450.39 Q262.908 1450.39 265.964 1455 Q269.042 1459.58 269.042 1468.33 Q269.042 1477.06 265.964 1481.67 Q262.908 1486.25 257.098 1486.25 Q251.288 1486.25 248.209 1481.67 Q245.154 1477.06 245.154 1468.33 Q245.154 1459.58 248.209 1455 Q251.288 1450.39 257.098 1450.39 Z\" fill=\"#000000\" fill-rule=\"evenodd\" fill-opacity=\"1\" /><path clip-path=\"url(#clip830)\" d=\"M277.26 1479.7 L282.144 1479.7 L282.144 1485.58 L277.26 1485.58 L277.26 1479.7 Z\" fill=\"#000000\" fill-rule=\"evenodd\" fill-opacity=\"1\" /><path clip-path=\"url(#clip830)\" d=\"M302.329 1454.1 Q298.718 1454.1 296.89 1457.66 Q295.084 1461.2 295.084 1468.33 Q295.084 1475.44 296.89 1479.01 Q298.718 1482.55 302.329 1482.55 Q305.964 1482.55 307.769 1479.01 Q309.598 1475.44 309.598 1468.33 Q309.598 1461.2 307.769 1457.66 Q305.964 1454.1 302.329 1454.1 M302.329 1450.39 Q308.14 1450.39 311.195 1455 Q314.274 1459.58 314.274 1468.33 Q314.274 1477.06 311.195 1481.67 Q308.14 1486.25 302.329 1486.25 Q296.519 1486.25 293.441 1481.67 Q290.385 1477.06 290.385 1468.33 Q290.385 1459.58 293.441 1455 Q296.519 1450.39 302.329 1450.39 Z\" fill=\"#000000\" fill-rule=\"evenodd\" fill-opacity=\"1\" /><path clip-path=\"url(#clip830)\" d=\"M801.876 1454.1 Q798.265 1454.1 796.436 1457.66 Q794.63 1461.2 794.63 1468.33 Q794.63 1475.44 796.436 1479.01 Q798.265 1482.55 801.876 1482.55 Q805.51 1482.55 807.316 1479.01 Q809.144 1475.44 809.144 1468.33 Q809.144 1461.2 807.316 1457.66 Q805.51 1454.1 801.876 1454.1 M801.876 1450.39 Q807.686 1450.39 810.741 1455 Q813.82 1459.58 813.82 1468.33 Q813.82 1477.06 810.741 1481.67 Q807.686 1486.25 801.876 1486.25 Q796.066 1486.25 792.987 1481.67 Q789.931 1477.06 789.931 1468.33 Q789.931 1459.58 792.987 1455 Q796.066 1450.39 801.876 1450.39 Z\" fill=\"#000000\" fill-rule=\"evenodd\" fill-opacity=\"1\" /><path clip-path=\"url(#clip830)\" d=\"M822.038 1479.7 L826.922 1479.7 L826.922 1485.58 L822.038 1485.58 L822.038 1479.7 Z\" fill=\"#000000\" fill-rule=\"evenodd\" fill-opacity=\"1\" /><path clip-path=\"url(#clip830)\" d=\"M837.917 1481.64 L845.556 1481.64 L845.556 1455.28 L837.246 1456.95 L837.246 1452.69 L845.51 1451.02 L850.186 1451.02 L850.186 1481.64 L857.825 1481.64 L857.825 1485.58 L837.917 1485.58 L837.917 1481.64 Z\" fill=\"#000000\" fill-rule=\"evenodd\" fill-opacity=\"1\" /><path clip-path=\"url(#clip830)\" d=\"M1346.23 1454.1 Q1342.61 1454.1 1340.79 1457.66 Q1338.98 1461.2 1338.98 1468.33 Q1338.98 1475.44 1340.79 1479.01 Q1342.61 1482.55 1346.23 1482.55 Q1349.86 1482.55 1351.67 1479.01 Q1353.49 1475.44 1353.49 1468.33 Q1353.49 1461.2 1351.67 1457.66 Q1349.86 1454.1 1346.23 1454.1 M1346.23 1450.39 Q1352.04 1450.39 1355.09 1455 Q1358.17 1459.58 1358.17 1468.33 Q1358.17 1477.06 1355.09 1481.67 Q1352.04 1486.25 1346.23 1486.25 Q1340.42 1486.25 1337.34 1481.67 Q1334.28 1477.06 1334.28 1468.33 Q1334.28 1459.58 1337.34 1455 Q1340.42 1450.39 1346.23 1450.39 Z\" fill=\"#000000\" fill-rule=\"evenodd\" fill-opacity=\"1\" /><path clip-path=\"url(#clip830)\" d=\"M1366.39 1479.7 L1371.27 1479.7 L1371.27 1485.58 L1366.39 1485.58 L1366.39 1479.7 Z\" fill=\"#000000\" fill-rule=\"evenodd\" fill-opacity=\"1\" /><path clip-path=\"url(#clip830)\" d=\"M1385.48 1481.64 L1401.8 1481.64 L1401.8 1485.58 L1379.86 1485.58 L1379.86 1481.64 Q1382.52 1478.89 1387.1 1474.26 Q1391.71 1469.61 1392.89 1468.27 Q1395.14 1465.74 1396.02 1464.01 Q1396.92 1462.25 1396.92 1460.56 Q1396.92 1457.8 1394.97 1456.07 Q1393.05 1454.33 1389.95 1454.33 Q1387.75 1454.33 1385.3 1455.09 Q1382.87 1455.86 1380.09 1457.41 L1380.09 1452.69 Q1382.91 1451.55 1385.37 1450.97 Q1387.82 1450.39 1389.86 1450.39 Q1395.23 1450.39 1398.42 1453.08 Q1401.62 1455.77 1401.62 1460.26 Q1401.62 1462.39 1400.81 1464.31 Q1400.02 1466.2 1397.91 1468.8 Q1397.34 1469.47 1394.23 1472.69 Q1391.13 1475.88 1385.48 1481.64 Z\" fill=\"#000000\" fill-rule=\"evenodd\" fill-opacity=\"1\" /><path clip-path=\"url(#clip830)\" d=\"M1889.91 1454.1 Q1886.3 1454.1 1884.48 1457.66 Q1882.67 1461.2 1882.67 1468.33 Q1882.67 1475.44 1884.48 1479.01 Q1886.3 1482.55 1889.91 1482.55 Q1893.55 1482.55 1895.35 1479.01 Q1897.18 1475.44 1897.18 1468.33 Q1897.18 1461.2 1895.35 1457.66 Q1893.55 1454.1 1889.91 1454.1 M1889.91 1450.39 Q1895.73 1450.39 1898.78 1455 Q1901.86 1459.58 1901.86 1468.33 Q1901.86 1477.06 1898.78 1481.67 Q1895.73 1486.25 1889.91 1486.25 Q1884.1 1486.25 1881.03 1481.67 Q1877.97 1477.06 1877.97 1468.33 Q1877.97 1459.58 1881.03 1455 Q1884.1 1450.39 1889.91 1450.39 Z\" fill=\"#000000\" fill-rule=\"evenodd\" fill-opacity=\"1\" /><path clip-path=\"url(#clip830)\" d=\"M1910.08 1479.7 L1914.96 1479.7 L1914.96 1485.58 L1910.08 1485.58 L1910.08 1479.7 Z\" fill=\"#000000\" fill-rule=\"evenodd\" fill-opacity=\"1\" /><path clip-path=\"url(#clip830)\" d=\"M1939.31 1466.95 Q1942.67 1467.66 1944.54 1469.93 Q1946.44 1472.2 1946.44 1475.53 Q1946.44 1480.65 1942.92 1483.45 Q1939.41 1486.25 1932.92 1486.25 Q1930.75 1486.25 1928.43 1485.81 Q1926.14 1485.39 1923.69 1484.54 L1923.69 1480.02 Q1925.63 1481.16 1927.95 1481.74 Q1930.26 1482.32 1932.79 1482.32 Q1937.18 1482.32 1939.47 1480.58 Q1941.79 1478.84 1941.79 1475.53 Q1941.79 1472.48 1939.64 1470.77 Q1937.51 1469.03 1933.69 1469.03 L1929.66 1469.03 L1929.66 1465.19 L1933.87 1465.19 Q1937.32 1465.19 1939.15 1463.82 Q1940.98 1462.43 1940.98 1459.84 Q1940.98 1457.18 1939.08 1455.77 Q1937.21 1454.33 1933.69 1454.33 Q1931.77 1454.33 1929.57 1454.75 Q1927.37 1455.16 1924.73 1456.04 L1924.73 1451.88 Q1927.39 1451.14 1929.71 1450.77 Q1932.04 1450.39 1934.1 1450.39 Q1939.43 1450.39 1942.53 1452.83 Q1945.63 1455.23 1945.63 1459.35 Q1945.63 1462.22 1943.99 1464.21 Q1942.35 1466.18 1939.31 1466.95 Z\" fill=\"#000000\" fill-rule=\"evenodd\" fill-opacity=\"1\" /><path clip-path=\"url(#clip830)\" d=\"M1083.5 1520.52 L1123.7 1520.52 L1123.7 1525.93 L1106.83 1525.93 L1106.83 1568.04 L1100.37 1568.04 L1100.37 1525.93 L1083.5 1525.93 L1083.5 1520.52 Z\" fill=\"#000000\" fill-rule=\"evenodd\" fill-opacity=\"1\" /><path clip-path=\"url(#clip830)\" d=\"M1127.65 1532.4 L1133.51 1532.4 L1133.51 1568.04 L1127.65 1568.04 L1127.65 1532.4 M1127.65 1518.52 L1133.51 1518.52 L1133.51 1525.93 L1127.65 1525.93 L1127.65 1518.52 Z\" fill=\"#000000\" fill-rule=\"evenodd\" fill-opacity=\"1\" /><path clip-path=\"url(#clip830)\" d=\"M1173.52 1539.24 Q1175.71 1535.29 1178.77 1533.41 Q1181.82 1531.54 1185.96 1531.54 Q1191.53 1531.54 1194.55 1535.45 Q1197.58 1539.33 1197.58 1546.53 L1197.58 1568.04 L1191.69 1568.04 L1191.69 1546.72 Q1191.69 1541.59 1189.87 1539.11 Q1188.06 1536.63 1184.34 1536.63 Q1179.79 1536.63 1177.14 1539.65 Q1174.5 1542.68 1174.5 1547.9 L1174.5 1568.04 L1168.61 1568.04 L1168.61 1546.72 Q1168.61 1541.56 1166.8 1539.11 Q1164.99 1536.63 1161.2 1536.63 Q1156.71 1536.63 1154.07 1539.68 Q1151.43 1542.71 1151.43 1547.9 L1151.43 1568.04 L1145.54 1568.04 L1145.54 1532.4 L1151.43 1532.4 L1151.43 1537.93 Q1153.43 1534.66 1156.23 1533.1 Q1159.03 1531.54 1162.88 1531.54 Q1166.77 1531.54 1169.47 1533.51 Q1172.21 1535.48 1173.52 1539.24 Z\" fill=\"#000000\" fill-rule=\"evenodd\" fill-opacity=\"1\" /><path clip-path=\"url(#clip830)\" d=\"M1239.75 1548.76 L1239.75 1551.62 L1212.82 1551.62 Q1213.21 1557.67 1216.45 1560.85 Q1219.73 1564 1225.55 1564 Q1228.93 1564 1232.08 1563.17 Q1235.26 1562.35 1238.38 1560.69 L1238.38 1566.23 Q1235.23 1567.57 1231.92 1568.27 Q1228.61 1568.97 1225.2 1568.97 Q1216.67 1568.97 1211.68 1564 Q1206.71 1559.04 1206.71 1550.57 Q1206.71 1541.82 1211.42 1536.69 Q1216.17 1531.54 1224.19 1531.54 Q1231.38 1531.54 1235.55 1536.18 Q1239.75 1540.8 1239.75 1548.76 M1233.89 1547.04 Q1233.83 1542.23 1231.19 1539.37 Q1228.58 1536.5 1224.25 1536.5 Q1219.35 1536.5 1216.39 1539.27 Q1213.46 1542.04 1213.01 1547.07 L1233.89 1547.04 Z\" fill=\"#000000\" fill-rule=\"evenodd\" fill-opacity=\"1\" /><path clip-path=\"url(#clip830)\" d=\"M1284.15 1518.58 Q1279.89 1525.9 1277.82 1533.06 Q1275.75 1540.23 1275.75 1547.58 Q1275.75 1554.93 1277.82 1562.16 Q1279.92 1569.35 1284.15 1576.64 L1279.06 1576.64 Q1274.28 1569.16 1271.9 1561.93 Q1269.54 1554.71 1269.54 1547.58 Q1269.54 1540.48 1271.9 1533.29 Q1274.25 1526.09 1279.06 1518.58 L1284.15 1518.58 Z\" fill=\"#000000\" fill-rule=\"evenodd\" fill-opacity=\"1\" /><path clip-path=\"url(#clip830)\" d=\"M1310.35 1571.35 Q1307.86 1577.72 1305.51 1579.66 Q1303.15 1581.6 1299.21 1581.6 L1294.53 1581.6 L1294.53 1576.7 L1297.96 1576.7 Q1300.38 1576.7 1301.72 1575.56 Q1303.06 1574.41 1304.68 1570.14 L1305.73 1567.47 L1291.31 1532.4 L1297.52 1532.4 L1308.66 1560.28 L1319.8 1532.4 L1326.01 1532.4 L1310.35 1571.35 Z\" fill=\"#000000\" fill-rule=\"evenodd\" fill-opacity=\"1\" /><path clip-path=\"url(#clip830)\" d=\"M1364.58 1548.76 L1364.58 1551.62 L1337.65 1551.62 Q1338.04 1557.67 1341.28 1560.85 Q1344.56 1564 1350.39 1564 Q1353.76 1564 1356.91 1563.17 Q1360.09 1562.35 1363.21 1560.69 L1363.21 1566.23 Q1360.06 1567.57 1356.75 1568.27 Q1353.44 1568.97 1350.04 1568.97 Q1341.51 1568.97 1336.51 1564 Q1331.54 1559.04 1331.54 1550.57 Q1331.54 1541.82 1336.25 1536.69 Q1341 1531.54 1349.02 1531.54 Q1356.21 1531.54 1360.38 1536.18 Q1364.58 1540.8 1364.58 1548.76 M1358.73 1547.04 Q1358.66 1542.23 1356.02 1539.37 Q1353.41 1536.5 1349.08 1536.5 Q1344.18 1536.5 1341.22 1539.27 Q1338.29 1542.04 1337.85 1547.07 L1358.73 1547.04 Z\" fill=\"#000000\" fill-rule=\"evenodd\" fill-opacity=\"1\" /><path clip-path=\"url(#clip830)\" d=\"M1390.39 1550.12 Q1383.3 1550.12 1380.56 1551.75 Q1377.82 1553.37 1377.82 1557.29 Q1377.82 1560.4 1379.86 1562.25 Q1381.93 1564.07 1385.46 1564.07 Q1390.33 1564.07 1393.26 1560.63 Q1396.22 1557.16 1396.22 1551.43 L1396.22 1550.12 L1390.39 1550.12 M1402.08 1547.71 L1402.08 1568.04 L1396.22 1568.04 L1396.22 1562.63 Q1394.21 1565.88 1391.22 1567.44 Q1388.23 1568.97 1383.9 1568.97 Q1378.43 1568.97 1375.18 1565.91 Q1371.97 1562.82 1371.97 1557.67 Q1371.97 1551.65 1375.98 1548.6 Q1380.02 1545.54 1388.01 1545.54 L1396.22 1545.54 L1396.22 1544.97 Q1396.22 1540.93 1393.55 1538.73 Q1390.9 1536.5 1386.1 1536.5 Q1383.04 1536.5 1380.15 1537.23 Q1377.25 1537.97 1374.58 1539.43 L1374.58 1534.02 Q1377.79 1532.78 1380.81 1532.17 Q1383.84 1531.54 1386.7 1531.54 Q1394.44 1531.54 1398.26 1535.55 Q1402.08 1539.56 1402.08 1547.71 Z\" fill=\"#000000\" fill-rule=\"evenodd\" fill-opacity=\"1\" /><path clip-path=\"url(#clip830)\" d=\"M1434.8 1537.87 Q1433.81 1537.3 1432.63 1537.04 Q1431.49 1536.76 1430.08 1536.76 Q1425.12 1536.76 1422.45 1540 Q1419.8 1543.22 1419.8 1549.27 L1419.8 1568.04 L1413.92 1568.04 L1413.92 1532.4 L1419.8 1532.4 L1419.8 1537.93 Q1421.65 1534.69 1424.61 1533.13 Q1427.57 1531.54 1431.8 1531.54 Q1432.41 1531.54 1433.14 1531.63 Q1433.87 1531.7 1434.76 1531.85 L1434.8 1537.87 Z\" fill=\"#000000\" fill-rule=\"evenodd\" fill-opacity=\"1\" /><path clip-path=\"url(#clip830)\" d=\"M1463.66 1533.45 L1463.66 1538.98 Q1461.18 1537.71 1458.51 1537.07 Q1455.83 1536.44 1452.97 1536.44 Q1448.61 1536.44 1446.41 1537.77 Q1444.25 1539.11 1444.25 1541.79 Q1444.25 1543.82 1445.81 1545 Q1447.37 1546.15 1452.08 1547.2 L1454.08 1547.64 Q1460.32 1548.98 1462.93 1551.43 Q1465.57 1553.85 1465.57 1558.21 Q1465.57 1563.17 1461.63 1566.07 Q1457.71 1568.97 1450.84 1568.97 Q1447.97 1568.97 1444.85 1568.39 Q1441.77 1567.85 1438.33 1566.74 L1438.33 1560.69 Q1441.58 1562.38 1444.73 1563.24 Q1447.88 1564.07 1450.96 1564.07 Q1455.1 1564.07 1457.33 1562.66 Q1459.56 1561.23 1459.56 1558.65 Q1459.56 1556.27 1457.93 1554.99 Q1456.34 1553.72 1450.9 1552.54 L1448.86 1552.07 Q1443.42 1550.92 1441 1548.56 Q1438.58 1546.18 1438.58 1542.04 Q1438.58 1537.01 1442.15 1534.27 Q1445.71 1531.54 1452.27 1531.54 Q1455.52 1531.54 1458.38 1532.01 Q1461.25 1532.49 1463.66 1533.45 Z\" fill=\"#000000\" fill-rule=\"evenodd\" fill-opacity=\"1\" /><path clip-path=\"url(#clip830)\" d=\"M1473.98 1518.58 L1479.07 1518.58 Q1483.84 1526.09 1486.2 1533.29 Q1488.59 1540.48 1488.59 1547.58 Q1488.59 1554.71 1486.2 1561.93 Q1483.84 1569.16 1479.07 1576.64 L1473.98 1576.64 Q1478.21 1569.35 1480.28 1562.16 Q1482.38 1554.93 1482.38 1547.58 Q1482.38 1540.23 1480.28 1533.06 Q1478.21 1525.9 1473.98 1518.58 Z\" fill=\"#000000\" fill-rule=\"evenodd\" fill-opacity=\"1\" /><polyline clip-path=\"url(#clip832)\" style=\"stroke:#000000; stroke-linecap:round; stroke-linejoin:round; stroke-width:2; stroke-opacity:0.1; fill:none\" points=\"\n",
       "  219.334,1415.78 2352.76,1415.78 \n",
       "  \"/>\n",
       "<polyline clip-path=\"url(#clip832)\" style=\"stroke:#000000; stroke-linecap:round; stroke-linejoin:round; stroke-width:2; stroke-opacity:0.1; fill:none\" points=\"\n",
       "  219.334,1193.87 2352.76,1193.87 \n",
       "  \"/>\n",
       "<polyline clip-path=\"url(#clip832)\" style=\"stroke:#000000; stroke-linecap:round; stroke-linejoin:round; stroke-width:2; stroke-opacity:0.1; fill:none\" points=\"\n",
       "  219.334,971.97 2352.76,971.97 \n",
       "  \"/>\n",
       "<polyline clip-path=\"url(#clip832)\" style=\"stroke:#000000; stroke-linecap:round; stroke-linejoin:round; stroke-width:2; stroke-opacity:0.1; fill:none\" points=\"\n",
       "  219.334,750.064 2352.76,750.064 \n",
       "  \"/>\n",
       "<polyline clip-path=\"url(#clip832)\" style=\"stroke:#000000; stroke-linecap:round; stroke-linejoin:round; stroke-width:2; stroke-opacity:0.1; fill:none\" points=\"\n",
       "  219.334,528.159 2352.76,528.159 \n",
       "  \"/>\n",
       "<polyline clip-path=\"url(#clip832)\" style=\"stroke:#000000; stroke-linecap:round; stroke-linejoin:round; stroke-width:2; stroke-opacity:0.1; fill:none\" points=\"\n",
       "  219.334,306.253 2352.76,306.253 \n",
       "  \"/>\n",
       "<polyline clip-path=\"url(#clip832)\" style=\"stroke:#000000; stroke-linecap:round; stroke-linejoin:round; stroke-width:2; stroke-opacity:0.1; fill:none\" points=\"\n",
       "  219.334,84.348 2352.76,84.348 \n",
       "  \"/>\n",
       "<polyline clip-path=\"url(#clip830)\" style=\"stroke:#000000; stroke-linecap:round; stroke-linejoin:round; stroke-width:4; stroke-opacity:1; fill:none\" points=\"\n",
       "  219.334,1423.18 219.334,47.2441 \n",
       "  \"/>\n",
       "<polyline clip-path=\"url(#clip830)\" style=\"stroke:#000000; stroke-linecap:round; stroke-linejoin:round; stroke-width:4; stroke-opacity:1; fill:none\" points=\"\n",
       "  219.334,1415.78 238.231,1415.78 \n",
       "  \"/>\n",
       "<polyline clip-path=\"url(#clip830)\" style=\"stroke:#000000; stroke-linecap:round; stroke-linejoin:round; stroke-width:4; stroke-opacity:1; fill:none\" points=\"\n",
       "  219.334,1193.87 238.231,1193.87 \n",
       "  \"/>\n",
       "<polyline clip-path=\"url(#clip830)\" style=\"stroke:#000000; stroke-linecap:round; stroke-linejoin:round; stroke-width:4; stroke-opacity:1; fill:none\" points=\"\n",
       "  219.334,971.97 238.231,971.97 \n",
       "  \"/>\n",
       "<polyline clip-path=\"url(#clip830)\" style=\"stroke:#000000; stroke-linecap:round; stroke-linejoin:round; stroke-width:4; stroke-opacity:1; fill:none\" points=\"\n",
       "  219.334,750.064 238.231,750.064 \n",
       "  \"/>\n",
       "<polyline clip-path=\"url(#clip830)\" style=\"stroke:#000000; stroke-linecap:round; stroke-linejoin:round; stroke-width:4; stroke-opacity:1; fill:none\" points=\"\n",
       "  219.334,528.159 238.231,528.159 \n",
       "  \"/>\n",
       "<polyline clip-path=\"url(#clip830)\" style=\"stroke:#000000; stroke-linecap:round; stroke-linejoin:round; stroke-width:4; stroke-opacity:1; fill:none\" points=\"\n",
       "  219.334,306.253 238.231,306.253 \n",
       "  \"/>\n",
       "<polyline clip-path=\"url(#clip830)\" style=\"stroke:#000000; stroke-linecap:round; stroke-linejoin:round; stroke-width:4; stroke-opacity:1; fill:none\" points=\"\n",
       "  219.334,84.348 238.231,84.348 \n",
       "  \"/>\n",
       "<path clip-path=\"url(#clip830)\" d=\"M117.431 1398.5 L135.788 1398.5 L135.788 1402.44 L121.714 1402.44 L121.714 1410.91 Q122.732 1410.56 123.751 1410.4 Q124.769 1410.21 125.788 1410.21 Q131.575 1410.21 134.954 1413.38 Q138.334 1416.56 138.334 1421.97 Q138.334 1427.55 134.862 1430.65 Q131.39 1433.73 125.07 1433.73 Q122.894 1433.73 120.626 1433.36 Q118.381 1432.99 115.973 1432.25 L115.973 1427.55 Q118.056 1428.69 120.279 1429.24 Q122.501 1429.8 124.978 1429.8 Q128.982 1429.8 131.32 1427.69 Q133.658 1425.58 133.658 1421.97 Q133.658 1418.36 131.32 1416.25 Q128.982 1414.15 124.978 1414.15 Q123.103 1414.15 121.228 1414.57 Q119.376 1414.98 117.431 1415.86 L117.431 1398.5 Z\" fill=\"#000000\" fill-rule=\"evenodd\" fill-opacity=\"1\" /><path clip-path=\"url(#clip830)\" d=\"M147.547 1427.18 L152.431 1427.18 L152.431 1433.06 L147.547 1433.06 L147.547 1427.18 Z\" fill=\"#000000\" fill-rule=\"evenodd\" fill-opacity=\"1\" /><path clip-path=\"url(#clip830)\" d=\"M163.427 1429.13 L171.065 1429.13 L171.065 1402.76 L162.755 1404.43 L162.755 1400.17 L171.019 1398.5 L175.695 1398.5 L175.695 1429.13 L183.334 1429.13 L183.334 1433.06 L163.427 1433.06 L163.427 1429.13 Z\" fill=\"#000000\" fill-rule=\"evenodd\" fill-opacity=\"1\" /><path clip-path=\"url(#clip830)\" d=\"M117.802 1176.59 L136.158 1176.59 L136.158 1180.53 L122.084 1180.53 L122.084 1189 Q123.103 1188.66 124.121 1188.49 Q125.14 1188.31 126.158 1188.31 Q131.945 1188.31 135.325 1191.48 Q138.704 1194.65 138.704 1200.07 Q138.704 1205.65 135.232 1208.75 Q131.76 1211.83 125.441 1211.83 Q123.265 1211.83 120.996 1211.46 Q118.751 1211.09 116.343 1210.34 L116.343 1205.65 Q118.427 1206.78 120.649 1207.34 Q122.871 1207.89 125.348 1207.89 Q129.353 1207.89 131.691 1205.78 Q134.029 1203.68 134.029 1200.07 Q134.029 1196.46 131.691 1194.35 Q129.353 1192.24 125.348 1192.24 Q123.473 1192.24 121.598 1192.66 Q119.746 1193.08 117.802 1193.96 L117.802 1176.59 Z\" fill=\"#000000\" fill-rule=\"evenodd\" fill-opacity=\"1\" /><path clip-path=\"url(#clip830)\" d=\"M147.917 1205.28 L152.802 1205.28 L152.802 1211.15 L147.917 1211.15 L147.917 1205.28 Z\" fill=\"#000000\" fill-rule=\"evenodd\" fill-opacity=\"1\" /><path clip-path=\"url(#clip830)\" d=\"M167.015 1207.22 L183.334 1207.22 L183.334 1211.15 L161.39 1211.15 L161.39 1207.22 Q164.052 1204.47 168.635 1199.84 Q173.241 1195.18 174.422 1193.84 Q176.667 1191.32 177.547 1189.58 Q178.45 1187.82 178.45 1186.13 Q178.45 1183.38 176.505 1181.64 Q174.584 1179.91 171.482 1179.91 Q169.283 1179.91 166.829 1180.67 Q164.399 1181.43 161.621 1182.98 L161.621 1178.26 Q164.445 1177.13 166.899 1176.55 Q169.352 1175.97 171.389 1175.97 Q176.76 1175.97 179.954 1178.66 Q183.149 1181.34 183.149 1185.83 Q183.149 1187.96 182.338 1189.88 Q181.551 1191.78 179.445 1194.37 Q178.866 1195.04 175.764 1198.26 Q172.663 1201.46 167.015 1207.22 Z\" fill=\"#000000\" fill-rule=\"evenodd\" fill-opacity=\"1\" /><path clip-path=\"url(#clip830)\" d=\"M116.853 954.69 L135.209 954.69 L135.209 958.625 L121.135 958.625 L121.135 967.097 Q122.154 966.75 123.172 966.588 Q124.191 966.402 125.209 966.402 Q130.996 966.402 134.376 969.574 Q137.755 972.745 137.755 978.162 Q137.755 983.74 134.283 986.842 Q130.811 989.921 124.492 989.921 Q122.316 989.921 120.047 989.551 Q117.802 989.18 115.394 988.439 L115.394 983.74 Q117.478 984.875 119.7 985.43 Q121.922 985.986 124.399 985.986 Q128.404 985.986 130.742 983.879 Q133.08 981.773 133.08 978.162 Q133.08 974.551 130.742 972.444 Q128.404 970.338 124.399 970.338 Q122.524 970.338 120.649 970.754 Q118.797 971.171 116.853 972.051 L116.853 954.69 Z\" fill=\"#000000\" fill-rule=\"evenodd\" fill-opacity=\"1\" /><path clip-path=\"url(#clip830)\" d=\"M146.968 983.37 L151.853 983.37 L151.853 989.25 L146.968 989.25 L146.968 983.37 Z\" fill=\"#000000\" fill-rule=\"evenodd\" fill-opacity=\"1\" /><path clip-path=\"url(#clip830)\" d=\"M176.204 970.615 Q179.561 971.333 181.436 973.602 Q183.334 975.87 183.334 979.203 Q183.334 984.319 179.815 987.12 Q176.297 989.921 169.815 989.921 Q167.64 989.921 165.325 989.481 Q163.033 989.064 160.579 988.208 L160.579 983.694 Q162.524 984.828 164.839 985.407 Q167.153 985.986 169.677 985.986 Q174.075 985.986 176.366 984.25 Q178.681 982.514 178.681 979.203 Q178.681 976.148 176.528 974.435 Q174.399 972.699 170.579 972.699 L166.552 972.699 L166.552 968.856 L170.764 968.856 Q174.214 968.856 176.042 967.49 Q177.871 966.102 177.871 963.509 Q177.871 960.847 175.973 959.435 Q174.098 958 170.579 958 Q168.658 958 166.459 958.416 Q164.26 958.833 161.621 959.713 L161.621 955.546 Q164.283 954.805 166.598 954.435 Q168.936 954.065 170.996 954.065 Q176.32 954.065 179.422 956.495 Q182.524 958.903 182.524 963.023 Q182.524 965.893 180.88 967.884 Q179.237 969.852 176.204 970.615 Z\" fill=\"#000000\" fill-rule=\"evenodd\" fill-opacity=\"1\" /><path clip-path=\"url(#clip830)\" d=\"M115.718 732.784 L134.075 732.784 L134.075 736.719 L120.001 736.719 L120.001 745.192 Q121.019 744.844 122.038 744.682 Q123.056 744.497 124.075 744.497 Q129.862 744.497 133.242 747.668 Q136.621 750.84 136.621 756.256 Q136.621 761.835 133.149 764.937 Q129.677 768.015 123.357 768.015 Q121.181 768.015 118.913 767.645 Q116.668 767.275 114.26 766.534 L114.26 761.835 Q116.343 762.969 118.566 763.525 Q120.788 764.08 123.265 764.08 Q127.269 764.08 129.607 761.974 Q131.945 759.867 131.945 756.256 Q131.945 752.645 129.607 750.539 Q127.269 748.432 123.265 748.432 Q121.39 748.432 119.515 748.849 Q117.663 749.266 115.718 750.145 L115.718 732.784 Z\" fill=\"#000000\" fill-rule=\"evenodd\" fill-opacity=\"1\" /><path clip-path=\"url(#clip830)\" d=\"M145.834 761.465 L150.718 761.465 L150.718 767.344 L145.834 767.344 L145.834 761.465 Z\" fill=\"#000000\" fill-rule=\"evenodd\" fill-opacity=\"1\" /><path clip-path=\"url(#clip830)\" d=\"M173.751 736.858 L161.945 755.307 L173.751 755.307 L173.751 736.858 M172.524 732.784 L178.403 732.784 L178.403 755.307 L183.334 755.307 L183.334 759.196 L178.403 759.196 L178.403 767.344 L173.751 767.344 L173.751 759.196 L158.149 759.196 L158.149 754.682 L172.524 732.784 Z\" fill=\"#000000\" fill-rule=\"evenodd\" fill-opacity=\"1\" /><path clip-path=\"url(#clip830)\" d=\"M117.2 510.879 L135.556 510.879 L135.556 514.814 L121.482 514.814 L121.482 523.286 Q122.501 522.939 123.519 522.777 Q124.538 522.592 125.556 522.592 Q131.343 522.592 134.723 525.763 Q138.103 528.934 138.103 534.351 Q138.103 539.93 134.63 543.031 Q131.158 546.11 124.839 546.11 Q122.663 546.11 120.394 545.74 Q118.149 545.369 115.742 544.629 L115.742 539.93 Q117.825 541.064 120.047 541.619 Q122.269 542.175 124.746 542.175 Q128.751 542.175 131.089 540.068 Q133.427 537.962 133.427 534.351 Q133.427 530.74 131.089 528.633 Q128.751 526.527 124.746 526.527 Q122.871 526.527 120.996 526.944 Q119.144 527.36 117.2 528.24 L117.2 510.879 Z\" fill=\"#000000\" fill-rule=\"evenodd\" fill-opacity=\"1\" /><path clip-path=\"url(#clip830)\" d=\"M147.316 539.559 L152.2 539.559 L152.2 545.439 L147.316 545.439 L147.316 539.559 Z\" fill=\"#000000\" fill-rule=\"evenodd\" fill-opacity=\"1\" /><path clip-path=\"url(#clip830)\" d=\"M162.431 510.879 L180.788 510.879 L180.788 514.814 L166.714 514.814 L166.714 523.286 Q167.732 522.939 168.751 522.777 Q169.769 522.592 170.788 522.592 Q176.575 522.592 179.954 525.763 Q183.334 528.934 183.334 534.351 Q183.334 539.93 179.862 543.031 Q176.389 546.11 170.07 546.11 Q167.894 546.11 165.626 545.74 Q163.38 545.369 160.973 544.629 L160.973 539.93 Q163.056 541.064 165.278 541.619 Q167.501 542.175 169.977 542.175 Q173.982 542.175 176.32 540.068 Q178.658 537.962 178.658 534.351 Q178.658 530.74 176.32 528.633 Q173.982 526.527 169.977 526.527 Q168.102 526.527 166.227 526.944 Q164.376 527.36 162.431 528.24 L162.431 510.879 Z\" fill=\"#000000\" fill-rule=\"evenodd\" fill-opacity=\"1\" /><path clip-path=\"url(#clip830)\" d=\"M116.043 288.973 L134.399 288.973 L134.399 292.909 L120.325 292.909 L120.325 301.381 Q121.343 301.034 122.362 300.871 Q123.38 300.686 124.399 300.686 Q130.186 300.686 133.566 303.858 Q136.945 307.029 136.945 312.445 Q136.945 318.024 133.473 321.126 Q130.001 324.205 123.681 324.205 Q121.505 324.205 119.237 323.834 Q116.992 323.464 114.584 322.723 L114.584 318.024 Q116.668 319.158 118.89 319.714 Q121.112 320.27 123.589 320.27 Q127.593 320.27 129.931 318.163 Q132.269 316.057 132.269 312.445 Q132.269 308.834 129.931 306.728 Q127.593 304.621 123.589 304.621 Q121.714 304.621 119.839 305.038 Q117.987 305.455 116.043 306.334 L116.043 288.973 Z\" fill=\"#000000\" fill-rule=\"evenodd\" fill-opacity=\"1\" /><path clip-path=\"url(#clip830)\" d=\"M146.158 317.654 L151.042 317.654 L151.042 323.533 L146.158 323.533 L146.158 317.654 Z\" fill=\"#000000\" fill-rule=\"evenodd\" fill-opacity=\"1\" /><path clip-path=\"url(#clip830)\" d=\"M171.806 304.39 Q168.658 304.39 166.806 306.543 Q164.977 308.696 164.977 312.445 Q164.977 316.172 166.806 318.348 Q168.658 320.501 171.806 320.501 Q174.954 320.501 176.783 318.348 Q178.635 316.172 178.635 312.445 Q178.635 308.696 176.783 306.543 Q174.954 304.39 171.806 304.39 M181.089 289.737 L181.089 293.997 Q179.329 293.163 177.524 292.723 Q175.741 292.284 173.982 292.284 Q169.352 292.284 166.899 295.409 Q164.468 298.534 164.121 304.853 Q165.487 302.839 167.547 301.774 Q169.607 300.686 172.084 300.686 Q177.292 300.686 180.301 303.858 Q183.334 307.006 183.334 312.445 Q183.334 317.77 180.186 320.987 Q177.038 324.205 171.806 324.205 Q165.811 324.205 162.64 319.621 Q159.468 315.015 159.468 306.288 Q159.468 298.094 163.357 293.233 Q167.246 288.348 173.797 288.348 Q175.556 288.348 177.339 288.696 Q179.144 289.043 181.089 289.737 Z\" fill=\"#000000\" fill-rule=\"evenodd\" fill-opacity=\"1\" /><path clip-path=\"url(#clip830)\" d=\"M117.107 67.068 L135.464 67.068 L135.464 71.0032 L121.39 71.0032 L121.39 79.4753 Q122.408 79.1281 123.427 78.9661 Q124.445 78.7809 125.464 78.7809 Q131.251 78.7809 134.63 81.9522 Q138.01 85.1234 138.01 90.5401 Q138.01 96.1188 134.538 99.2206 Q131.066 102.299 124.746 102.299 Q122.57 102.299 120.302 101.929 Q118.056 101.559 115.649 100.818 L115.649 96.1188 Q117.732 97.253 119.955 97.8086 Q122.177 98.3641 124.654 98.3641 Q128.658 98.3641 130.996 96.2576 Q133.334 94.1512 133.334 90.5401 Q133.334 86.929 130.996 84.8225 Q128.658 82.7161 124.654 82.7161 Q122.779 82.7161 120.904 83.1327 Q119.052 83.5494 117.107 84.429 L117.107 67.068 Z\" fill=\"#000000\" fill-rule=\"evenodd\" fill-opacity=\"1\" /><path clip-path=\"url(#clip830)\" d=\"M147.223 95.7484 L152.107 95.7484 L152.107 101.628 L147.223 101.628 L147.223 95.7484 Z\" fill=\"#000000\" fill-rule=\"evenodd\" fill-opacity=\"1\" /><path clip-path=\"url(#clip830)\" d=\"M161.112 67.068 L183.334 67.068 L183.334 69.0587 L170.788 101.628 L165.903 101.628 L177.709 71.0032 L161.112 71.0032 L161.112 67.068 Z\" fill=\"#000000\" fill-rule=\"evenodd\" fill-opacity=\"1\" /><path clip-path=\"url(#clip830)\" d=\"M14.479 923.207 L14.479 917.351 L64.0042 917.351 L64.0042 923.207 L14.479 923.207 Z\" fill=\"#000000\" fill-rule=\"evenodd\" fill-opacity=\"1\" /><path clip-path=\"url(#clip830)\" d=\"M42.4881 875.464 L64.0042 875.464 L64.0042 881.321 L42.679 881.321 Q37.6183 881.321 35.1038 883.294 Q32.5894 885.268 32.5894 889.214 Q32.5894 893.957 35.6131 896.694 Q38.6368 899.431 43.8567 899.431 L64.0042 899.431 L64.0042 905.32 L28.3562 905.32 L28.3562 899.431 L33.8944 899.431 Q30.6797 897.331 29.0883 894.498 Q27.4968 891.633 27.4968 887.909 Q27.4968 881.766 31.3163 878.615 Q35.1038 875.464 42.4881 875.464 Z\" fill=\"#000000\" fill-rule=\"evenodd\" fill-opacity=\"1\" /><path clip-path=\"url(#clip830)\" d=\"M14.5426 849.715 Q21.8632 853.98 29.0246 856.049 Q36.186 858.118 43.5384 858.118 Q50.8908 858.118 58.1159 856.049 Q65.3091 853.948 72.5979 849.715 L72.5979 854.808 Q65.1182 859.582 57.8931 861.969 Q50.668 864.324 43.5384 864.324 Q36.4406 864.324 29.2474 861.969 Q22.0542 859.614 14.5426 854.808 L14.5426 849.715 Z\" fill=\"#000000\" fill-rule=\"evenodd\" fill-opacity=\"1\" /><path clip-path=\"url(#clip830)\" d=\"M18.0438 809.611 L24.314 809.611 Q22.5634 813.271 21.704 816.518 Q20.8447 819.764 20.8447 822.788 Q20.8447 828.04 22.8817 830.904 Q24.9187 833.737 28.6745 833.737 Q31.8255 833.737 33.4488 831.859 Q35.0402 829.95 36.0269 824.666 L36.8226 820.783 Q38.1912 813.59 41.6605 810.184 Q45.098 806.747 50.8908 806.747 Q57.7976 806.747 61.3624 811.394 Q64.9272 816.009 64.9272 824.953 Q64.9272 828.326 64.1633 832.146 Q63.3994 835.933 61.9035 840.007 L55.2831 840.007 Q57.4793 836.093 58.5933 832.337 Q59.7073 828.581 59.7073 824.953 Q59.7073 819.446 57.543 816.454 Q55.3786 813.462 51.3682 813.462 Q47.8671 813.462 45.8937 815.627 Q43.9204 817.759 42.9337 822.661 L42.1698 826.576 Q40.7375 833.769 37.682 836.984 Q34.6264 840.198 29.1837 840.198 Q22.8817 840.198 19.2532 835.774 Q15.6248 831.318 15.6248 823.52 Q15.6248 820.178 16.2295 816.709 Q16.8343 813.24 18.0438 809.611 Z\" fill=\"#000000\" fill-rule=\"evenodd\" fill-opacity=\"1\" /><path clip-path=\"url(#clip830)\" d=\"M14.5426 797.898 L14.5426 792.806 Q22.0542 788.031 29.2474 785.676 Q36.4406 783.289 43.5384 783.289 Q50.668 783.289 57.8931 785.676 Q65.1182 788.031 72.5979 792.806 L72.5979 797.898 Q65.3091 793.665 58.1159 791.596 Q50.8908 789.496 43.5384 789.496 Q36.186 789.496 29.0246 791.596 Q21.8632 793.665 14.5426 797.898 Z\" fill=\"#000000\" fill-rule=\"evenodd\" fill-opacity=\"1\" /><path clip-path=\"url(#clip830)\" d=\"M32.4621 737.01 Q32.4621 741.721 36.1542 744.458 Q39.8145 747.195 46.212 747.195 Q52.6095 747.195 56.3017 744.49 Q59.9619 741.753 59.9619 737.01 Q59.9619 732.331 56.2698 729.594 Q52.5777 726.857 46.212 726.857 Q39.8781 726.857 36.186 729.594 Q32.4621 732.331 32.4621 737.01 M27.4968 737.01 Q27.4968 729.371 32.4621 725.011 Q37.4273 720.65 46.212 720.65 Q54.9649 720.65 59.9619 725.011 Q64.9272 729.371 64.9272 737.01 Q64.9272 744.681 59.9619 749.041 Q54.9649 753.37 46.212 753.37 Q37.4273 753.37 32.4621 749.041 Q27.4968 744.681 27.4968 737.01 Z\" fill=\"#000000\" fill-rule=\"evenodd\" fill-opacity=\"1\" /><path clip-path=\"url(#clip830)\" d=\"M14.479 692.896 L19.3487 692.896 L19.3487 698.498 Q19.3487 701.649 20.6219 702.89 Q21.895 704.1 25.2052 704.1 L28.3562 704.1 L28.3562 694.456 L32.9077 694.456 L32.9077 704.1 L64.0042 704.1 L64.0042 709.988 L32.9077 709.988 L32.9077 715.59 L28.3562 715.59 L28.3562 709.988 L25.8736 709.988 Q19.9216 709.988 17.2162 707.219 Q14.479 704.45 14.479 698.434 L14.479 692.896 Z\" fill=\"#000000\" fill-rule=\"evenodd\" fill-opacity=\"1\" /><path clip-path=\"url(#clip830)\" d=\"M16.4842 669.311 L16.4842 662.404 L34.149 650.596 L16.4842 638.724 L16.4842 631.817 L39.3052 647.095 L64.0042 630.798 L64.0042 637.705 L43.793 651.073 L64.0042 664.537 L64.0042 671.475 L38.6368 654.511 L16.4842 669.311 Z\" fill=\"#000000\" fill-rule=\"evenodd\" fill-opacity=\"1\" /><path clip-path=\"url(#clip830)\" d=\"M16.4842 628.889 L16.4842 621.982 L36.0269 608.805 L16.4842 595.723 L16.4842 588.817 L41.3741 605.622 L64.0042 605.622 L64.0042 612.083 L41.3741 612.083 L16.4842 628.889 Z\" fill=\"#000000\" fill-rule=\"evenodd\" fill-opacity=\"1\" /><path clip-path=\"url(#clip830)\" d=\"M16.4842 585.284 L16.4842 547.949 L21.3858 547.949 L58.5933 577.995 L58.5933 547.217 L64.0042 547.217 L64.0042 586.016 L59.1026 586.016 L21.895 555.97 L21.895 585.284 L16.4842 585.284 Z\" fill=\"#000000\" fill-rule=\"evenodd\" fill-opacity=\"1\" /><polyline clip-path=\"url(#clip832)\" style=\"stroke:#009af9; stroke-linecap:round; stroke-linejoin:round; stroke-width:12; stroke-opacity:1; fill:none\" points=\"\n",
       "  279.714,782.232 294.622,809.859 309.531,868.387 324.44,993.527 339.348,1106.64 354.257,981.036 369.165,1085.33 384.074,981.703 398.983,977.146 413.891,931.652 \n",
       "  428.8,1109.23 443.708,1197.58 458.617,1296.24 473.526,1238.54 488.434,1384.24 503.343,1280.78 518.251,1117.26 533.16,1130.67 548.069,1083 562.977,1244.42 \n",
       "  577.886,1167.01 592.795,1132.57 607.703,1119.63 622.612,1205.32 637.52,1115.02 652.429,1073.24 667.338,1029.72 682.246,1004.29 697.155,1055.8 712.063,919.935 \n",
       "  726.972,987.05 741.881,1007.66 756.789,991.18 771.698,944.524 786.606,1057.41 801.515,1173.55 816.424,1340.39 831.332,1368.69 846.241,1208.15 861.15,1293.04 \n",
       "  876.058,1265.56 890.967,1324.49 905.875,1223.23 920.784,1188.52 935.693,1079.62 950.601,1099.59 965.51,1214.44 980.418,1229.81 995.327,1273.67 1010.24,1210.12 \n",
       "  1025.14,1138.17 1040.05,1160.01 1054.96,1098.07 1069.87,1125.14 1084.78,1242.54 1099.69,1279 1114.6,1252.32 1129.5,1274.81 1144.41,1099.94 1159.32,1078.81 \n",
       "  1174.23,957.691 1189.14,800.407 1204.05,725.41 1218.96,759.771 1233.86,779.285 1248.77,826.499 1263.68,697.144 1278.59,704.3 1293.5,715.323 1308.41,702.435 \n",
       "  1323.32,749.928 1338.23,697.34 1353.13,666.433 1368.04,696.85 1382.95,632.145 1397.86,666.143 1412.77,533.442 1427.68,546.297 1442.59,486.758 1457.49,488.45 \n",
       "  1472.4,519.126 1487.31,560.514 1502.22,523.828 1517.13,560.422 1532.04,699.2 1546.95,718.779 1561.85,669.33 1576.76,627.493 1591.67,731.365 1606.58,718.581 \n",
       "  1621.49,757.658 1636.4,728.584 1651.31,665.178 1666.21,703.416 1681.12,780.504 1696.03,675.621 1710.94,690.402 1725.85,631.385 1740.76,603.44 1755.67,783.148 \n",
       "  1770.57,723.033 1785.48,614.255 1800.39,569.92 1815.3,537.81 1830.21,544.926 1845.12,600.253 1860.03,598.567 1874.93,700.474 1889.84,723.528 \n",
       "  \"/>\n",
       "<polyline clip-path=\"url(#clip832)\" style=\"stroke:#ff0000; stroke-linecap:round; stroke-linejoin:round; stroke-width:12; stroke-opacity:1; fill:none\" points=\"\n",
       "  1904.75,720.658 1919.66,523.556 1934.57,573.805 1949.48,613.69 1964.39,580.016 1979.3,564.291 1994.2,601.565 2009.11,570.937 2024.02,716.804 2038.93,665.757 \n",
       "  2053.84,822.56 2068.75,755.447 2083.66,641.479 2098.56,665.564 2113.47,524.461 2128.38,563.185 2143.29,290.28 2158.2,324.929 2173.11,154.477 2188.02,209.721 \n",
       "  2202.92,143.393 2217.83,86.1857 2232.74,98.7051 2247.65,107.841 2262.56,136.845 2277.47,176.193 2292.38,285.235 \n",
       "  \"/>\n",
       "<polyline clip-path=\"url(#clip832)\" style=\"stroke:#008000; stroke-linecap:round; stroke-linejoin:round; stroke-width:12; stroke-opacity:1; fill:none\" points=\"\n",
       "  279.714,1238.36 294.622,1232.5 309.531,1226.63 324.44,1220.76 339.348,1214.89 354.257,1209.02 369.165,1203.16 384.074,1197.29 398.983,1191.42 413.891,1185.55 \n",
       "  428.8,1179.69 443.708,1173.82 458.617,1167.95 473.526,1162.08 488.434,1156.22 503.343,1150.35 518.251,1144.48 533.16,1138.61 548.069,1132.74 562.977,1126.88 \n",
       "  577.886,1121.01 592.795,1115.14 607.703,1109.27 622.612,1103.41 637.52,1097.54 652.429,1091.67 667.338,1085.8 682.246,1079.94 697.155,1074.07 712.063,1068.2 \n",
       "  726.972,1062.33 741.881,1056.46 756.789,1050.6 771.698,1044.73 786.606,1038.86 801.515,1032.99 816.424,1027.13 831.332,1021.26 846.241,1015.39 861.15,1009.52 \n",
       "  876.058,1003.66 890.967,997.787 905.875,991.92 920.784,986.052 935.693,980.184 950.601,974.317 965.51,968.449 980.418,962.581 995.327,956.714 1010.24,950.846 \n",
       "  1025.14,944.978 1040.05,939.111 1054.96,933.243 1069.87,927.375 1084.78,921.507 1099.69,915.64 1114.6,909.772 1129.5,903.904 1144.41,898.037 1159.32,892.169 \n",
       "  1174.23,886.301 1189.14,880.434 1204.05,874.566 1218.96,868.698 1233.86,862.831 1248.77,856.963 1263.68,851.095 1278.59,845.227 1293.5,839.36 1308.41,833.492 \n",
       "  1323.32,827.624 1338.23,821.757 1353.13,815.889 1368.04,810.021 1382.95,804.154 1397.86,798.286 1412.77,792.418 1427.68,786.55 1442.59,780.683 1457.49,774.815 \n",
       "  1472.4,768.947 1487.31,763.08 1502.22,757.212 1517.13,751.344 1532.04,745.477 1546.95,739.609 1561.85,733.741 1576.76,727.874 1591.67,722.006 1606.58,716.138 \n",
       "  1621.49,710.27 1636.4,704.403 1651.31,698.535 1666.21,692.667 1681.12,686.8 1696.03,680.932 1710.94,675.064 1725.85,669.197 1740.76,663.329 1755.67,657.461 \n",
       "  1770.57,651.593 1785.48,645.726 1800.39,639.858 1815.3,633.99 1830.21,628.123 1845.12,622.255 1860.03,616.387 1874.93,610.52 1889.84,604.652 1904.75,598.784 \n",
       "  1919.66,592.917 1934.57,587.049 1949.48,581.181 1964.39,575.313 1979.3,569.446 1994.2,563.578 2009.11,557.71 2024.02,551.843 2038.93,545.975 2053.84,540.107 \n",
       "  2068.75,534.24 2083.66,528.372 2098.56,522.504 2113.47,516.636 2128.38,510.769 2143.29,504.901 2158.2,499.033 2173.11,493.166 2188.02,487.298 2202.92,481.43 \n",
       "  2217.83,475.563 2232.74,469.695 2247.65,463.827 2262.56,457.96 2277.47,452.092 2292.38,446.224 \n",
       "  \"/>\n",
       "<path clip-path=\"url(#clip830)\" d=\"\n",
       "M1696.19 300.469 L2281.64 300.469 L2281.64 93.1086 L1696.19 93.1086  Z\n",
       "  \" fill=\"#ffffff\" fill-rule=\"evenodd\" fill-opacity=\"1\"/>\n",
       "<polyline clip-path=\"url(#clip830)\" style=\"stroke:#000000; stroke-linecap:round; stroke-linejoin:round; stroke-width:4; stroke-opacity:1; fill:none\" points=\"\n",
       "  1696.19,300.469 2281.64,300.469 2281.64,93.1086 1696.19,93.1086 1696.19,300.469 \n",
       "  \"/>\n",
       "<polyline clip-path=\"url(#clip830)\" style=\"stroke:#009af9; stroke-linecap:round; stroke-linejoin:round; stroke-width:4; stroke-opacity:1; fill:none\" points=\"\n",
       "  1719.9,144.949 1862.13,144.949 \n",
       "  \"/>\n",
       "<path clip-path=\"url(#clip830)\" d=\"M1885.83 127.669 L1915.07 127.669 L1915.07 131.604 L1902.8 131.604 L1902.8 162.229 L1898.1 162.229 L1898.1 131.604 L1885.83 131.604 L1885.83 127.669 Z\" fill=\"#000000\" fill-rule=\"evenodd\" fill-opacity=\"1\" /><path clip-path=\"url(#clip830)\" d=\"M1927.45 140.284 Q1926.73 139.868 1925.88 139.682 Q1925.04 139.474 1924.03 139.474 Q1920.41 139.474 1918.47 141.835 Q1916.55 144.173 1916.55 148.571 L1916.55 162.229 L1912.27 162.229 L1912.27 136.303 L1916.55 136.303 L1916.55 140.331 Q1917.89 137.969 1920.04 136.835 Q1922.2 135.678 1925.28 135.678 Q1925.72 135.678 1926.25 135.747 Q1926.78 135.794 1927.43 135.909 L1927.45 140.284 Z\" fill=\"#000000\" fill-rule=\"evenodd\" fill-opacity=\"1\" /><path clip-path=\"url(#clip830)\" d=\"M1943.7 149.196 Q1938.54 149.196 1936.55 150.377 Q1934.56 151.557 1934.56 154.405 Q1934.56 156.673 1936.04 158.016 Q1937.54 159.335 1940.11 159.335 Q1943.66 159.335 1945.78 156.835 Q1947.94 154.312 1947.94 150.145 L1947.94 149.196 L1943.7 149.196 M1952.2 147.437 L1952.2 162.229 L1947.94 162.229 L1947.94 158.293 Q1946.48 160.655 1944.3 161.789 Q1942.13 162.9 1938.98 162.9 Q1935 162.9 1932.64 160.678 Q1930.3 158.432 1930.3 154.682 Q1930.3 150.307 1933.22 148.085 Q1936.16 145.863 1941.97 145.863 L1947.94 145.863 L1947.94 145.446 Q1947.94 142.507 1945.99 140.909 Q1944.07 139.289 1940.58 139.289 Q1938.35 139.289 1936.25 139.821 Q1934.14 140.354 1932.2 141.419 L1932.2 137.483 Q1934.53 136.581 1936.73 136.141 Q1938.93 135.678 1941.02 135.678 Q1946.64 135.678 1949.42 138.594 Q1952.2 141.511 1952.2 147.437 Z\" fill=\"#000000\" fill-rule=\"evenodd\" fill-opacity=\"1\" /><path clip-path=\"url(#clip830)\" d=\"M1960.97 136.303 L1965.23 136.303 L1965.23 162.229 L1960.97 162.229 L1960.97 136.303 M1960.97 126.21 L1965.23 126.21 L1965.23 131.604 L1960.97 131.604 L1960.97 126.21 Z\" fill=\"#000000\" fill-rule=\"evenodd\" fill-opacity=\"1\" /><path clip-path=\"url(#clip830)\" d=\"M1995.69 146.581 L1995.69 162.229 L1991.43 162.229 L1991.43 146.719 Q1991.43 143.039 1990 141.21 Q1988.56 139.382 1985.69 139.382 Q1982.24 139.382 1980.25 141.581 Q1978.26 143.78 1978.26 147.576 L1978.26 162.229 L1973.98 162.229 L1973.98 136.303 L1978.26 136.303 L1978.26 140.331 Q1979.79 137.993 1981.85 136.835 Q1983.93 135.678 1986.64 135.678 Q1991.11 135.678 1993.4 138.456 Q1995.69 141.21 1995.69 146.581 Z\" fill=\"#000000\" fill-rule=\"evenodd\" fill-opacity=\"1\" /><path clip-path=\"url(#clip830)\" d=\"M2004.19 136.303 L2008.45 136.303 L2008.45 162.229 L2004.19 162.229 L2004.19 136.303 M2004.19 126.21 L2008.45 126.21 L2008.45 131.604 L2004.19 131.604 L2004.19 126.21 Z\" fill=\"#000000\" fill-rule=\"evenodd\" fill-opacity=\"1\" /><path clip-path=\"url(#clip830)\" d=\"M2038.91 146.581 L2038.91 162.229 L2034.65 162.229 L2034.65 146.719 Q2034.65 143.039 2033.22 141.21 Q2031.78 139.382 2028.91 139.382 Q2025.46 139.382 2023.47 141.581 Q2021.48 143.78 2021.48 147.576 L2021.48 162.229 L2017.2 162.229 L2017.2 136.303 L2021.48 136.303 L2021.48 140.331 Q2023.01 137.993 2025.07 136.835 Q2027.15 135.678 2029.86 135.678 Q2034.33 135.678 2036.62 138.456 Q2038.91 141.21 2038.91 146.581 Z\" fill=\"#000000\" fill-rule=\"evenodd\" fill-opacity=\"1\" /><path clip-path=\"url(#clip830)\" d=\"M2064.46 148.965 Q2064.46 144.335 2062.54 141.789 Q2060.65 139.243 2057.2 139.243 Q2053.77 139.243 2051.85 141.789 Q2049.95 144.335 2049.95 148.965 Q2049.95 153.571 2051.85 156.118 Q2053.77 158.664 2057.2 158.664 Q2060.65 158.664 2062.54 156.118 Q2064.46 153.571 2064.46 148.965 M2068.72 159.011 Q2068.72 165.631 2065.78 168.849 Q2062.84 172.09 2056.78 172.09 Q2054.53 172.09 2052.54 171.742 Q2050.55 171.418 2048.68 170.724 L2048.68 166.58 Q2050.55 167.599 2052.38 168.085 Q2054.21 168.571 2056.11 168.571 Q2060.3 168.571 2062.38 166.372 Q2064.46 164.196 2064.46 159.775 L2064.46 157.668 Q2063.15 159.96 2061.09 161.094 Q2059.03 162.229 2056.15 162.229 Q2051.39 162.229 2048.47 158.594 Q2045.55 154.96 2045.55 148.965 Q2045.55 142.946 2048.47 139.312 Q2051.39 135.678 2056.15 135.678 Q2059.03 135.678 2061.09 136.812 Q2063.15 137.946 2064.46 140.238 L2064.46 136.303 L2068.72 136.303 L2068.72 159.011 Z\" fill=\"#000000\" fill-rule=\"evenodd\" fill-opacity=\"1\" /><path clip-path=\"url(#clip830)\" d=\"M2109.63 140.238 L2109.63 126.21 L2113.89 126.21 L2113.89 162.229 L2109.63 162.229 L2109.63 158.34 Q2108.28 160.655 2106.22 161.789 Q2104.19 162.9 2101.32 162.9 Q2096.62 162.9 2093.65 159.15 Q2090.71 155.4 2090.71 149.289 Q2090.71 143.178 2093.65 139.428 Q2096.62 135.678 2101.32 135.678 Q2104.19 135.678 2106.22 136.812 Q2108.28 137.923 2109.63 140.238 M2095.11 149.289 Q2095.11 153.988 2097.03 156.673 Q2098.98 159.335 2102.36 159.335 Q2105.74 159.335 2107.68 156.673 Q2109.63 153.988 2109.63 149.289 Q2109.63 144.59 2107.68 141.928 Q2105.74 139.243 2102.36 139.243 Q2098.98 139.243 2097.03 141.928 Q2095.11 144.59 2095.11 149.289 Z\" fill=\"#000000\" fill-rule=\"evenodd\" fill-opacity=\"1\" /><path clip-path=\"url(#clip830)\" d=\"M2134.44 149.196 Q2129.28 149.196 2127.29 150.377 Q2125.3 151.557 2125.3 154.405 Q2125.3 156.673 2126.78 158.016 Q2128.28 159.335 2130.85 159.335 Q2134.4 159.335 2136.52 156.835 Q2138.68 154.312 2138.68 150.145 L2138.68 149.196 L2134.44 149.196 M2142.94 147.437 L2142.94 162.229 L2138.68 162.229 L2138.68 158.293 Q2137.22 160.655 2135.04 161.789 Q2132.87 162.9 2129.72 162.9 Q2125.74 162.9 2123.38 160.678 Q2121.04 158.432 2121.04 154.682 Q2121.04 150.307 2123.96 148.085 Q2126.9 145.863 2132.71 145.863 L2138.68 145.863 L2138.68 145.446 Q2138.68 142.507 2136.73 140.909 Q2134.81 139.289 2131.32 139.289 Q2129.09 139.289 2126.99 139.821 Q2124.88 140.354 2122.94 141.419 L2122.94 137.483 Q2125.27 136.581 2127.47 136.141 Q2129.67 135.678 2131.76 135.678 Q2137.38 135.678 2140.16 138.594 Q2142.94 141.511 2142.94 147.437 Z\" fill=\"#000000\" fill-rule=\"evenodd\" fill-opacity=\"1\" /><path clip-path=\"url(#clip830)\" d=\"M2155.92 128.942 L2155.92 136.303 L2164.7 136.303 L2164.7 139.613 L2155.92 139.613 L2155.92 153.687 Q2155.92 156.858 2156.78 157.761 Q2157.66 158.664 2160.32 158.664 L2164.7 158.664 L2164.7 162.229 L2160.32 162.229 Q2155.39 162.229 2153.52 160.4 Q2151.64 158.548 2151.64 153.687 L2151.64 139.613 L2148.52 139.613 L2148.52 136.303 L2151.64 136.303 L2151.64 128.942 L2155.92 128.942 Z\" fill=\"#000000\" fill-rule=\"evenodd\" fill-opacity=\"1\" /><path clip-path=\"url(#clip830)\" d=\"M2182.08 149.196 Q2176.92 149.196 2174.93 150.377 Q2172.94 151.557 2172.94 154.405 Q2172.94 156.673 2174.42 158.016 Q2175.92 159.335 2178.49 159.335 Q2182.03 159.335 2184.16 156.835 Q2186.32 154.312 2186.32 150.145 L2186.32 149.196 L2182.08 149.196 M2190.58 147.437 L2190.58 162.229 L2186.32 162.229 L2186.32 158.293 Q2184.86 160.655 2182.68 161.789 Q2180.51 162.9 2177.36 162.9 Q2173.38 162.9 2171.02 160.678 Q2168.68 158.432 2168.68 154.682 Q2168.68 150.307 2171.59 148.085 Q2174.53 145.863 2180.34 145.863 L2186.32 145.863 L2186.32 145.446 Q2186.32 142.507 2184.37 140.909 Q2182.45 139.289 2178.95 139.289 Q2176.73 139.289 2174.63 139.821 Q2172.52 140.354 2170.58 141.419 L2170.58 137.483 Q2172.91 136.581 2175.11 136.141 Q2177.31 135.678 2179.39 135.678 Q2185.02 135.678 2187.8 138.594 Q2190.58 141.511 2190.58 147.437 Z\" fill=\"#000000\" fill-rule=\"evenodd\" fill-opacity=\"1\" /><polyline clip-path=\"url(#clip830)\" style=\"stroke:#ff0000; stroke-linecap:round; stroke-linejoin:round; stroke-width:4; stroke-opacity:1; fill:none\" points=\"\n",
       "  1719.9,196.789 1862.13,196.789 \n",
       "  \"/>\n",
       "<path clip-path=\"url(#clip830)\" d=\"M1890.51 183.351 L1890.51 196.337 L1896.39 196.337 Q1899.65 196.337 1901.43 194.647 Q1903.22 192.958 1903.22 189.833 Q1903.22 186.731 1901.43 185.041 Q1899.65 183.351 1896.39 183.351 L1890.51 183.351 M1885.83 179.509 L1896.39 179.509 Q1902.2 179.509 1905.16 182.147 Q1908.15 184.763 1908.15 189.833 Q1908.15 194.948 1905.16 197.564 Q1902.2 200.18 1896.39 200.18 L1890.51 200.18 L1890.51 214.069 L1885.83 214.069 L1885.83 179.509 Z\" fill=\"#000000\" fill-rule=\"evenodd\" fill-opacity=\"1\" /><path clip-path=\"url(#clip830)\" d=\"M1928.42 192.124 Q1927.71 191.708 1926.85 191.522 Q1926.02 191.314 1925 191.314 Q1921.39 191.314 1919.44 193.675 Q1917.52 196.013 1917.52 200.411 L1917.52 214.069 L1913.24 214.069 L1913.24 188.143 L1917.52 188.143 L1917.52 192.171 Q1918.86 189.809 1921.02 188.675 Q1923.17 187.518 1926.25 187.518 Q1926.69 187.518 1927.22 187.587 Q1927.75 187.634 1928.4 187.749 L1928.42 192.124 Z\" fill=\"#000000\" fill-rule=\"evenodd\" fill-opacity=\"1\" /><path clip-path=\"url(#clip830)\" d=\"M1954.03 200.041 L1954.03 202.124 L1934.44 202.124 Q1934.72 206.522 1937.08 208.837 Q1939.47 211.129 1943.7 211.129 Q1946.16 211.129 1948.45 210.527 Q1950.76 209.925 1953.03 208.721 L1953.03 212.749 Q1950.74 213.721 1948.33 214.231 Q1945.92 214.74 1943.45 214.74 Q1937.24 214.74 1933.61 211.129 Q1930 207.518 1930 201.36 Q1930 194.995 1933.42 191.268 Q1936.87 187.518 1942.71 187.518 Q1947.94 187.518 1950.97 190.897 Q1954.03 194.254 1954.03 200.041 M1949.77 198.791 Q1949.72 195.296 1947.8 193.212 Q1945.9 191.129 1942.75 191.129 Q1939.19 191.129 1937.03 193.143 Q1934.91 195.157 1934.58 198.814 L1949.77 198.791 Z\" fill=\"#000000\" fill-rule=\"evenodd\" fill-opacity=\"1\" /><path clip-path=\"url(#clip830)\" d=\"M1978.08 192.078 L1978.08 178.05 L1982.34 178.05 L1982.34 214.069 L1978.08 214.069 L1978.08 210.18 Q1976.73 212.495 1974.67 213.629 Q1972.64 214.74 1969.77 214.74 Q1965.07 214.74 1962.1 210.99 Q1959.16 207.24 1959.16 201.129 Q1959.16 195.018 1962.1 191.268 Q1965.07 187.518 1969.77 187.518 Q1972.64 187.518 1974.67 188.652 Q1976.73 189.763 1978.08 192.078 M1963.56 201.129 Q1963.56 205.828 1965.48 208.513 Q1967.43 211.175 1970.81 211.175 Q1974.19 211.175 1976.13 208.513 Q1978.08 205.828 1978.08 201.129 Q1978.08 196.43 1976.13 193.768 Q1974.19 191.083 1970.81 191.083 Q1967.43 191.083 1965.48 193.768 Q1963.56 196.43 1963.56 201.129 Z\" fill=\"#000000\" fill-rule=\"evenodd\" fill-opacity=\"1\" /><path clip-path=\"url(#clip830)\" d=\"M1991.11 188.143 L1995.37 188.143 L1995.37 214.069 L1991.11 214.069 L1991.11 188.143 M1991.11 178.05 L1995.37 178.05 L1995.37 183.444 L1991.11 183.444 L1991.11 178.05 Z\" fill=\"#000000\" fill-rule=\"evenodd\" fill-opacity=\"1\" /><path clip-path=\"url(#clip830)\" d=\"M2022.94 189.138 L2022.94 193.12 Q2021.13 192.124 2019.3 191.638 Q2017.5 191.129 2015.65 191.129 Q2011.5 191.129 2009.21 193.768 Q2006.92 196.384 2006.92 201.129 Q2006.92 205.874 2009.21 208.513 Q2011.5 211.129 2015.65 211.129 Q2017.5 211.129 2019.3 210.643 Q2021.13 210.133 2022.94 209.138 L2022.94 213.073 Q2021.15 213.907 2019.23 214.323 Q2017.34 214.74 2015.18 214.74 Q2009.33 214.74 2005.88 211.059 Q2002.43 207.379 2002.43 201.129 Q2002.43 194.786 2005.9 191.152 Q2009.4 187.518 2015.46 187.518 Q2017.43 187.518 2019.3 187.935 Q2021.18 188.328 2022.94 189.138 Z\" fill=\"#000000\" fill-rule=\"evenodd\" fill-opacity=\"1\" /><path clip-path=\"url(#clip830)\" d=\"M2034.56 180.782 L2034.56 188.143 L2043.33 188.143 L2043.33 191.453 L2034.56 191.453 L2034.56 205.527 Q2034.56 208.698 2035.41 209.601 Q2036.29 210.504 2038.96 210.504 L2043.33 210.504 L2043.33 214.069 L2038.96 214.069 Q2034.03 214.069 2032.15 212.24 Q2030.28 210.388 2030.28 205.527 L2030.28 191.453 L2027.15 191.453 L2027.15 188.143 L2030.28 188.143 L2030.28 180.782 L2034.56 180.782 Z\" fill=\"#000000\" fill-rule=\"evenodd\" fill-opacity=\"1\" /><path clip-path=\"url(#clip830)\" d=\"M2048.93 188.143 L2053.19 188.143 L2053.19 214.069 L2048.93 214.069 L2048.93 188.143 M2048.93 178.05 L2053.19 178.05 L2053.19 183.444 L2048.93 183.444 L2048.93 178.05 Z\" fill=\"#000000\" fill-rule=\"evenodd\" fill-opacity=\"1\" /><path clip-path=\"url(#clip830)\" d=\"M2072.15 191.129 Q2068.72 191.129 2066.73 193.814 Q2064.74 196.476 2064.74 201.129 Q2064.74 205.782 2066.71 208.467 Q2068.7 211.129 2072.15 211.129 Q2075.55 211.129 2077.54 208.444 Q2079.53 205.758 2079.53 201.129 Q2079.53 196.522 2077.54 193.837 Q2075.55 191.129 2072.15 191.129 M2072.15 187.518 Q2077.71 187.518 2080.88 191.129 Q2084.05 194.74 2084.05 201.129 Q2084.05 207.495 2080.88 211.129 Q2077.71 214.74 2072.15 214.74 Q2066.57 214.74 2063.4 211.129 Q2060.25 207.495 2060.25 201.129 Q2060.25 194.74 2063.4 191.129 Q2066.57 187.518 2072.15 187.518 Z\" fill=\"#000000\" fill-rule=\"evenodd\" fill-opacity=\"1\" /><path clip-path=\"url(#clip830)\" d=\"M2112.66 198.421 L2112.66 214.069 L2108.4 214.069 L2108.4 198.559 Q2108.4 194.879 2106.96 193.05 Q2105.53 191.222 2102.66 191.222 Q2099.21 191.222 2097.22 193.421 Q2095.23 195.62 2095.23 199.416 L2095.23 214.069 L2090.95 214.069 L2090.95 188.143 L2095.23 188.143 L2095.23 192.171 Q2096.76 189.833 2098.82 188.675 Q2100.9 187.518 2103.61 187.518 Q2108.08 187.518 2110.37 190.296 Q2112.66 193.05 2112.66 198.421 Z\" fill=\"#000000\" fill-rule=\"evenodd\" fill-opacity=\"1\" /><path clip-path=\"url(#clip830)\" d=\"M2153.28 192.078 L2153.28 178.05 L2157.54 178.05 L2157.54 214.069 L2153.28 214.069 L2153.28 210.18 Q2151.94 212.495 2149.88 213.629 Q2147.84 214.74 2144.97 214.74 Q2140.27 214.74 2137.31 210.99 Q2134.37 207.24 2134.37 201.129 Q2134.37 195.018 2137.31 191.268 Q2140.27 187.518 2144.97 187.518 Q2147.84 187.518 2149.88 188.652 Q2151.94 189.763 2153.28 192.078 M2138.77 201.129 Q2138.77 205.828 2140.69 208.513 Q2142.64 211.175 2146.02 211.175 Q2149.39 211.175 2151.34 208.513 Q2153.28 205.828 2153.28 201.129 Q2153.28 196.43 2151.34 193.768 Q2149.39 191.083 2146.02 191.083 Q2142.64 191.083 2140.69 193.768 Q2138.77 196.43 2138.77 201.129 Z\" fill=\"#000000\" fill-rule=\"evenodd\" fill-opacity=\"1\" /><path clip-path=\"url(#clip830)\" d=\"M2178.1 201.036 Q2172.94 201.036 2170.95 202.217 Q2168.96 203.397 2168.96 206.245 Q2168.96 208.513 2170.44 209.856 Q2171.94 211.175 2174.51 211.175 Q2178.05 211.175 2180.18 208.675 Q2182.33 206.152 2182.33 201.985 L2182.33 201.036 L2178.1 201.036 M2186.59 199.277 L2186.59 214.069 L2182.33 214.069 L2182.33 210.133 Q2180.88 212.495 2178.7 213.629 Q2176.52 214.74 2173.38 214.74 Q2169.39 214.74 2167.03 212.518 Q2164.7 210.272 2164.7 206.522 Q2164.7 202.147 2167.61 199.925 Q2170.55 197.703 2176.36 197.703 L2182.33 197.703 L2182.33 197.286 Q2182.33 194.347 2180.39 192.749 Q2178.47 191.129 2174.97 191.129 Q2172.75 191.129 2170.64 191.661 Q2168.54 192.194 2166.59 193.259 L2166.59 189.323 Q2168.93 188.421 2171.13 187.981 Q2173.33 187.518 2175.41 187.518 Q2181.04 187.518 2183.82 190.434 Q2186.59 193.351 2186.59 199.277 Z\" fill=\"#000000\" fill-rule=\"evenodd\" fill-opacity=\"1\" /><path clip-path=\"url(#clip830)\" d=\"M2199.58 180.782 L2199.58 188.143 L2208.35 188.143 L2208.35 191.453 L2199.58 191.453 L2199.58 205.527 Q2199.58 208.698 2200.44 209.601 Q2201.32 210.504 2203.98 210.504 L2208.35 210.504 L2208.35 214.069 L2203.98 214.069 Q2199.05 214.069 2197.17 212.24 Q2195.3 210.388 2195.3 205.527 L2195.3 191.453 L2192.17 191.453 L2192.17 188.143 L2195.3 188.143 L2195.3 180.782 L2199.58 180.782 Z\" fill=\"#000000\" fill-rule=\"evenodd\" fill-opacity=\"1\" /><path clip-path=\"url(#clip830)\" d=\"M2225.74 201.036 Q2220.58 201.036 2218.58 202.217 Q2216.59 203.397 2216.59 206.245 Q2216.59 208.513 2218.08 209.856 Q2219.58 211.175 2222.15 211.175 Q2225.69 211.175 2227.82 208.675 Q2229.97 206.152 2229.97 201.985 L2229.97 201.036 L2225.74 201.036 M2234.23 199.277 L2234.23 214.069 L2229.97 214.069 L2229.97 210.133 Q2228.51 212.495 2226.34 213.629 Q2224.16 214.74 2221.01 214.74 Q2217.03 214.74 2214.67 212.518 Q2212.33 210.272 2212.33 206.522 Q2212.33 202.147 2215.25 199.925 Q2218.19 197.703 2224 197.703 L2229.97 197.703 L2229.97 197.286 Q2229.97 194.347 2228.03 192.749 Q2226.11 191.129 2222.61 191.129 Q2220.39 191.129 2218.28 191.661 Q2216.18 192.194 2214.23 193.259 L2214.23 189.323 Q2216.57 188.421 2218.77 187.981 Q2220.97 187.518 2223.05 187.518 Q2228.68 187.518 2231.45 190.434 Q2234.23 193.351 2234.23 199.277 Z\" fill=\"#000000\" fill-rule=\"evenodd\" fill-opacity=\"1\" /><polyline clip-path=\"url(#clip830)\" style=\"stroke:#008000; stroke-linecap:round; stroke-linejoin:round; stroke-width:4; stroke-opacity:1; fill:none\" points=\"\n",
       "  1719.9,248.629 1862.13,248.629 \n",
       "  \"/>\n",
       "<path clip-path=\"url(#clip830)\" d=\"M1885.83 231.349 L1892.8 231.349 L1901.62 254.867 L1910.48 231.349 L1917.45 231.349 L1917.45 265.909 L1912.89 265.909 L1912.89 235.562 L1903.98 259.265 L1899.28 259.265 L1890.37 235.562 L1890.37 265.909 L1885.83 265.909 L1885.83 231.349 Z\" fill=\"#000000\" fill-rule=\"evenodd\" fill-opacity=\"1\" /><path clip-path=\"url(#clip830)\" d=\"M1936.6 242.969 Q1933.17 242.969 1931.18 245.654 Q1929.19 248.316 1929.19 252.969 Q1929.19 257.622 1931.16 260.307 Q1933.15 262.969 1936.6 262.969 Q1940 262.969 1941.99 260.284 Q1943.98 257.598 1943.98 252.969 Q1943.98 248.362 1941.99 245.677 Q1940 242.969 1936.6 242.969 M1936.6 239.358 Q1942.15 239.358 1945.32 242.969 Q1948.49 246.58 1948.49 252.969 Q1948.49 259.335 1945.32 262.969 Q1942.15 266.58 1936.6 266.58 Q1931.02 266.58 1927.85 262.969 Q1924.7 259.335 1924.7 252.969 Q1924.7 246.58 1927.85 242.969 Q1931.02 239.358 1936.6 239.358 Z\" fill=\"#000000\" fill-rule=\"evenodd\" fill-opacity=\"1\" /><path clip-path=\"url(#clip830)\" d=\"M1972.61 243.918 L1972.61 229.89 L1976.87 229.89 L1976.87 265.909 L1972.61 265.909 L1972.61 262.02 Q1971.27 264.335 1969.21 265.469 Q1967.17 266.58 1964.3 266.58 Q1959.6 266.58 1956.64 262.83 Q1953.7 259.08 1953.7 252.969 Q1953.7 246.858 1956.64 243.108 Q1959.6 239.358 1964.3 239.358 Q1967.17 239.358 1969.21 240.492 Q1971.27 241.603 1972.61 243.918 M1958.1 252.969 Q1958.1 257.668 1960.02 260.353 Q1961.97 263.015 1965.35 263.015 Q1968.72 263.015 1970.67 260.353 Q1972.61 257.668 1972.61 252.969 Q1972.61 248.27 1970.67 245.608 Q1968.72 242.923 1965.35 242.923 Q1961.97 242.923 1960.02 245.608 Q1958.1 248.27 1958.1 252.969 Z\" fill=\"#000000\" fill-rule=\"evenodd\" fill-opacity=\"1\" /><path clip-path=\"url(#clip830)\" d=\"M2007.82 251.881 L2007.82 253.964 L1988.24 253.964 Q1988.52 258.362 1990.88 260.677 Q1993.26 262.969 1997.5 262.969 Q1999.95 262.969 2002.24 262.367 Q2004.56 261.765 2006.83 260.561 L2006.83 264.589 Q2004.53 265.561 2002.13 266.071 Q1999.72 266.58 1997.24 266.58 Q1991.04 266.58 1987.41 262.969 Q1983.79 259.358 1983.79 253.2 Q1983.79 246.835 1987.22 243.108 Q1990.67 239.358 1996.5 239.358 Q2001.73 239.358 2004.77 242.737 Q2007.82 246.094 2007.82 251.881 M2003.56 250.631 Q2003.52 247.136 2001.59 245.052 Q1999.7 242.969 1996.55 242.969 Q1992.98 242.969 1990.83 244.983 Q1988.7 246.997 1988.38 250.654 L2003.56 250.631 Z\" fill=\"#000000\" fill-rule=\"evenodd\" fill-opacity=\"1\" /><path clip-path=\"url(#clip830)\" d=\"M2014.81 229.89 L2019.07 229.89 L2019.07 265.909 L2014.81 265.909 L2014.81 229.89 Z\" fill=\"#000000\" fill-rule=\"evenodd\" fill-opacity=\"1\" /></svg>\n"
      ]
     },
     "execution_count": 10,
     "metadata": {},
     "output_type": "execute_result"
    }
   ],
   "source": [
    "# check: it sure would be nice to see you soln against the data ...\n",
    "plot(T_all[training_range], P̂, label=\"Training data\", lw=3)\n",
    "plot!(T_all[prediction_range], P̂_prediction, lw=3, c=:red, label=\"Prediction data\")\n",
    "plot!(T_all, P̂_model, lw=3, c=:green, label=\"Model\")\n",
    "\n",
    "xlabel!(\"Time (years)\", fontsize=18)\n",
    "ylabel!(\"ln(S) of XYZ\", fontsize=18)"
   ]
  },
  {
   "cell_type": "markdown",
   "id": "e6d7c9a1-8a11-49d6-91c7-d83683378942",
   "metadata": {},
   "source": [
    "### b) Estimate the volatility parameter $\\sigma$\n",
    "\n",
    "#### Strategy\n",
    "\n",
    "To construct an estimate of the volatility parameter $\\hat{\\sigma}$ we try to match the model estimated variance:\n",
    "\n",
    "$$\\text{Var}\\left(S_{t}\\right) = S_{\\circ}^{2}e^{2\\mu{(t-t_{\\circ})}}\\left[e^{\\sigma^{2}{(t-t_{\\circ})}} - 1\\right]$$\n",
    "\n",
    "with the variance in the price data; where we let $\\mu=\\hat{\\mu}$ and the variance $\\text{Var}\\left(X_{t}\\right)$ is calculated by using the [implied volatility (IV)](https://www.investopedia.com/terms/i/iv.asp). The [implied volatility (IV)](https://www.investopedia.com/terms/i/iv.asp) gives the market estimate of the standard deviation of the price T-days in the future:\n",
    "\n",
    "$$\\sigma_{IV} = S_{\\circ}\\times\\left(\\frac{IV}{100}\\right)\\times\\left(\\sqrt{\\frac{T}{365}}\\right)$$\n",
    "\n",
    "However, $\\sigma^{2}_{IV}(t)\\simeq{\\text{Var}\\left(X_{t}\\right)}$; thus, we can solve the variance expression for $\\sigma$:\n",
    "\n",
    "$$\\sigma^{2} = \\frac{1}{T^{\\prime}}\\times\\ln\\left(\\frac{\\text{Var}\\left(S_{T^{\\prime}}\\right)}{S_{\\circ}^{2}e^{2\\mu{T^{\\prime}}}} + 1\\right)$$\n",
    "\n",
    "where:\n",
    "\n",
    "$$T^{\\prime} = \\frac{1}{365}\\left(T - T_{\\circ}\\right)$$"
   ]
  },
  {
   "cell_type": "code",
   "execution_count": 11,
   "id": "7095fb01-da3e-4689-9d30-95ea82bb0171",
   "metadata": {},
   "outputs": [
    {
     "data": {
      "text/plain": [
       "0.5212226825051628"
      ]
     },
     "execution_count": 11,
     "metadata": {},
     "output_type": "execute_result"
    }
   ],
   "source": [
    "# estimate the volatility σ̂ -\n",
    "# fill me in\n",
    "# Compute the price variance that is expected from the IV -\n",
    "\n",
    "S₀ = df_local[1,:close]; # get the initial share price at the beginning of the \"local\" data\n",
    "\n",
    "N_local = length(df_local[1,:close]);\n",
    "T_market = (N_local/365.0)\n",
    "Var_market = (S₀*(IV/100.0)*sqrt(N_local/365))^2 # variance of price using the IV -\n",
    "\n",
    "# Convert the price variance into σ (volatility parameter in the GMB soln)\n",
    "a = Var_market/((S₀^2)*exp(2*μ̂*T_market)) + 1\n",
    "σ̂ = sqrt((1/T_market)*log(a))"
   ]
  },
  {
   "cell_type": "markdown",
   "id": "19257b19-cbd2-4152-8f45-0c8bd77badf7",
   "metadata": {},
   "source": [
    "### c) Predict share price distribution of `XYZ` T = 78 days into the future"
   ]
  },
  {
   "cell_type": "code",
   "execution_count": 12,
   "id": "9088a62a-a856-4661-8cca-aed8c2cf298c",
   "metadata": {},
   "outputs": [],
   "source": [
    "# build new prediction model -\n",
    "future_prediction_model = GeometricBrownianMotionModel()\n",
    "future_prediction_model.T₁ = 0.0\n",
    "future_prediction_model.T₂ = (ΔT/B);\n",
    "future_prediction_model.h = (1.0/365.0)\n",
    "future_prediction_model.Xₒ = Sₒ; # share price from the problem\n",
    "\n",
    "# parameter values -\n",
    "future_prediction_model.μ = μ̂ ; # replace this with your estimated value\n",
    "future_prediction_model.σ = σ̂; # replace this with your estimated value"
   ]
  },
  {
   "cell_type": "code",
   "execution_count": 13,
   "id": "ae1aa3a2-cda1-4dba-895d-12f0ed469583",
   "metadata": {},
   "outputs": [
    {
     "ename": "LoadError",
     "evalue": "TypeError: in keyword argument 𝒫, expected Int64, got a value of type Int32",
     "output_type": "error",
     "traceback": [
      "TypeError: in keyword argument 𝒫, expected Int64, got a value of type Int32",
      "",
      "Stacktrace:",
      " [1] top-level scope",
      "   @ In[13]:3",
      " [2] eval",
      "   @ .\\boot.jl:368 [inlined]",
      " [3] include_string(mapexpr::typeof(REPL.softscope), mod::Module, code::String, filename::String)",
      "   @ Base .\\loading.jl:1428"
     ]
    }
   ],
   "source": [
    "# run simulation using the solve function in the code library\n",
    "# fill me in ...\n",
    "future_prediction = solve(future_prediction_model; 𝒫 = 10000);\n",
    "T = future_prediction[:,1];\n",
    "X = future_prediction[:,2:end];"
   ]
  },
  {
   "cell_type": "code",
   "execution_count": 14,
   "id": "c86f6f20-eae1-4f75-9126-276e0a95f2c9",
   "metadata": {},
   "outputs": [
    {
     "ename": "LoadError",
     "evalue": "UndefVarError: X not defined",
     "output_type": "error",
     "traceback": [
      "UndefVarError: X not defined",
      "",
      "Stacktrace:",
      " [1] top-level scope",
      "   @ In[14]:3",
      " [2] eval",
      "   @ .\\boot.jl:368 [inlined]",
      " [3] include_string(mapexpr::typeof(REPL.softscope), mod::Module, code::String, filename::String)",
      "   @ Base .\\loading.jl:1428"
     ]
    }
   ],
   "source": [
    "# check: it would awesome to see the what those simulation paths look like!\n",
    "skip_factor = 10\n",
    "plot(T, X[:,1:skip_factor:end], label=\"\", c=colorant\"#BDBBBB\")\n",
    "xlabel!(\"Time (years)\", fontsize=18);\n",
    "ylabel!(\"Share price of XYZ\", fontsize=18)"
   ]
  },
  {
   "cell_type": "code",
   "execution_count": 15,
   "id": "668044b7-f89c-4143-a7e7-01b9f5cb0e8f",
   "metadata": {},
   "outputs": [
    {
     "ename": "LoadError",
     "evalue": "UndefVarError: X not defined",
     "output_type": "error",
     "traceback": [
      "UndefVarError: X not defined",
      "",
      "Stacktrace:",
      " [1] top-level scope",
      "   @ In[15]:3",
      " [2] eval",
      "   @ .\\boot.jl:368 [inlined]",
      " [3] include_string(mapexpr::typeof(REPL.softscope), mod::Module, code::String, filename::String)",
      "   @ Base .\\loading.jl:1428"
     ]
    }
   ],
   "source": [
    "# fit a log normal to the simulated data - \n",
    "# fill me in ...\n",
    "d = fit_mle(LogNormal,` X[end, 2:end]);\n",
    "LNM = rand(d,1000);"
   ]
  },
  {
   "cell_type": "code",
   "execution_count": 16,
   "id": "5f098ea5-1fd5-4346-9771-7da4d454428d",
   "metadata": {},
   "outputs": [
    {
     "ename": "LoadError",
     "evalue": "UndefVarError: X not defined",
     "output_type": "error",
     "traceback": [
      "UndefVarError: X not defined",
      "",
      "Stacktrace:",
      " [1] top-level scope",
      "   @ In[16]:3",
      " [2] eval",
      "   @ .\\boot.jl:368 [inlined]",
      " [3] include_string(mapexpr::typeof(REPL.softscope), mod::Module, code::String, filename::String)",
      "   @ Base .\\loading.jl:1428"
     ]
    }
   ],
   "source": [
    "# visualize the price distribution\n",
    "# fill me in ...\n",
    "stephist(X[end, 2:end], bins = number_of_bins, normed = :true, lw = 2, c = :blue,\n",
    "    label = \"XYZ simulation (local)\")\n",
    "stephist!(LNM, bins = number_of_bins, normed = :true, lw = 2, c = :red,\n",
    "    label = \"XYZ Log Normal model (local)\")\n",
    "\n",
    "xlabel!(\"Share price XYZ (USD/share)\", fontsize=18)\n",
    "ylabel!(\"Frequency (Bins = $(number_of_bins)) (AU)\", fontsize=18)\n"
   ]
  },
  {
   "cell_type": "code",
   "execution_count": 17,
   "id": "44ebf751-9e62-45c2-8ba0-587fefbe42d2",
   "metadata": {},
   "outputs": [
    {
     "ename": "LoadError",
     "evalue": "UndefVarError: d not defined",
     "output_type": "error",
     "traceback": [
      "UndefVarError: d not defined",
      "",
      "Stacktrace:",
      " [1] top-level scope",
      "   @ :0",
      " [2] eval",
      "   @ .\\boot.jl:368 [inlined]",
      " [3] include_string(mapexpr::typeof(REPL.softscope), mod::Module, code::String, filename::String)",
      "   @ Base .\\loading.jl:1428"
     ]
    }
   ],
   "source": [
    "# show the parameters, or use the params command (need these for Options question)\n",
    "# See: https://juliastats.org/Distributions.jl/stable/univariate/#StatsAPI.params-Tuple{UnivariateDistribution}\n",
    "LND = fit_mle(LogNormal, df[!,:close]);#不确定要不要 \n",
    "LNDS = rand(LND, 10000);\n",
    "stephist(df[!,:close], bins = number_of_bins, normed = :true, lw = 2, c = :blue,\n",
    "    label = \"XYZ all data\")\n",
    "stephist!(LNDS, bins = number_of_bins, normed = :true, lw = 2, c = :green,\n",
    "    label = \"XYZ Log Normal model all data\")\n",
    "\n",
    "xlabel!(\"Share price XYZ (USD/share)\", fontsize=18)\n",
    "ylabel!(\"Frequency (Bins = $(number_of_bins)) (AU)\", fontsize=18)\n",
    "d"
   ]
  },
  {
   "cell_type": "code",
   "execution_count": null,
   "id": "f36a9ce5",
   "metadata": {},
   "outputs": [],
   "source": []
  }
 ],
 "metadata": {
  "kernelspec": {
   "display_name": "Julia 1.8.0",
   "language": "julia",
   "name": "julia-1.8"
  },
  "language_info": {
   "file_extension": ".jl",
   "mimetype": "application/julia",
   "name": "julia",
   "version": "1.8.0"
  }
 },
 "nbformat": 4,
 "nbformat_minor": 5
}
